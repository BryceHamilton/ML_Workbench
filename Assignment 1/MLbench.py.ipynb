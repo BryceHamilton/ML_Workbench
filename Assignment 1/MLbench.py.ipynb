{
 "cells": [
  {
   "cell_type": "code",
   "execution_count": null,
   "outputs": [],
   "source": [
    "# Import Required Libraries\n",
    "import matplotlib\n",
    "import numpy as np\n",
    "from sklearn.naive_bayes import GaussianNB\n",
    "from sklearn import tree\n",
    "from sklearn.linear_model import Perceptron\n",
    "from sklearn.neural_network import MLPClassifier"
   ],
   "metadata": {
    "collapsed": false,
    "pycharm": {
     "name": "#%%\n"
    }
   }
  },
  {
   "cell_type": "code",
   "execution_count": 10,
   "metadata": {
    "pycharm": {
     "is_executing": false
    }
   },
   "outputs": [],
   "source": [
    "# Import Models\n",
    "gnb = GaussianNB()\n",
    "base_t = tree.DecisionTreeClassifier()\n",
    "best_t = tree.DecisionTreeClassifier()\n",
    "per = Perceptron()\n",
    "base_mlp = MLPClassifier()\n",
    "best_mlp = MLPClassifier()"
   ]
  },
  {
   "cell_type": "code",
   "execution_count": 7,
   "metadata": {
    "pycharm": {
     "is_executing": false
    }
   },
   "outputs": [],
   "source": [
    "# Import Data\n",
    "test_data_1 = np.genfromtxt('./data 1/test_no_label_1.csv', delimiter=',')\n",
    "test_data_2 = np.genfromtxt('./data 2/test_no_label_2.csv', delimiter=',')\n",
    "\n",
    "labeled_test_data_1 = np.genfromtxt('./data 1/test_with_label_1.csv', delimiter=',')\n",
    "labeled_test_data_2 = np.genfromtxt('./data 2/test_with_label_2.csv', delimiter=',')\n",
    "\n",
    "train_data_1 = np.genfromtxt('./data 1/train_1.csv', delimiter=',')\n",
    "train_data_2 = np.genfromtxt('./data 2/train_2.csv', delimiter=',')\n",
    "\n",
    "val_data_1 = np.genfromtxt('./data 1/val_1.csv', delimiter=',')\n",
    "val_data_2 = np.genfromtxt('./data 2/val_2.csv', delimiter=',')\n"
   ]
  },
  {
   "cell_type": "code",
   "execution_count": 10,
   "metadata": {
    "pycharm": {
     "is_executing": false
    }
   },
   "outputs": [],
   "source": [
    "# Data 1 Distributions\n"
   ]
  }
 ],
 "metadata": {
  "kernelspec": {
   "display_name": "Python 3",
   "language": "python",
   "name": "python3"
  },
  "language_info": {
   "codemirror_mode": {
    "name": "ipython",
    "version": 3
   },
   "file_extension": ".py",
   "mimetype": "text/x-python",
   "name": "python",
   "nbconvert_exporter": "python",
   "pygments_lexer": "ipython3",
   "version": "3.7.9"
  },
  "pycharm": {
   "stem_cell": {
    "cell_type": "raw",
    "source": [],
    "metadata": {
     "collapsed": false
    }
   }
  }
 },
 "nbformat": 4,
 "nbformat_minor": 1
}