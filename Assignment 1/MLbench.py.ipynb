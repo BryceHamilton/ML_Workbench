{
 "cells": [
  {
   "cell_type": "code",
   "execution_count": 1,
   "metadata": {
    "pycharm": {
     "is_executing": false,
     "name": "#%%\n"
    }
   },
   "outputs": [],
   "source": [
    "# Import Required Libraries\n",
    "from matplotlib import pyplot as plt\n",
    "import numpy as np\n",
    "from sklearn.naive_bayes import GaussianNB\n",
    "from sklearn import tree\n",
    "from sklearn.linear_model import Perceptron\n",
    "from sklearn.neural_network import MLPClassifier"
   ]
  },
  {
   "cell_type": "markdown",
   "source": [
    "# Set Up Classification Models\n",
    "- gnb = Gaussian Naive Bayes\n",
    "- base_t = Default Decision tree\n",
    "- per = Perceptron\n",
    "- base_mlp = Default Multi-Layer Perceptron"
   ],
   "metadata": {
    "collapsed": false,
    "pycharm": {
     "name": "#%% md\n"
    }
   }
  },
  {
   "cell_type": "code",
   "execution_count": 2,
   "metadata": {
    "pycharm": {
     "is_executing": false
    }
   },
   "outputs": [],
   "source": [
    "# Import Models\n",
    "import csv\n",
    "gnb = GaussianNB()\n",
    "base_t = tree.DecisionTreeClassifier(criterion=\"entropy\")\n",
    "per = Perceptron()\n",
    "base_mlp = MLPClassifier(hidden_layer_sizes=(100,), activation=\"logistic\", solver=\"sgd\")"
   ]
  },
  {
   "cell_type": "markdown",
   "source": [
    "# Data Imports\n",
    "### Imports the data from data 1 and data 2"
   ],
   "metadata": {
    "collapsed": false
   }
  },
  {
   "cell_type": "code",
   "execution_count": 3,
   "metadata": {
    "pycharm": {
     "is_executing": false
    }
   },
   "outputs": [],
   "source": [
    "# Import Data\n",
    "test_data_1 = np.genfromtxt('./data 1/test_no_label_1.csv', delimiter=',')\n",
    "test_data_2 = np.genfromtxt('./data 2/test_no_label_2.csv', delimiter=',')\n",
    "\n",
    "labeled_test_data_1 = np.genfromtxt('./data 1/test_with_label_1.csv', delimiter=',')\n",
    "labeled_test_data_2 = np.genfromtxt('./data 2/test_with_label_2.csv', delimiter=',')\n",
    "\n",
    "train_data_1 = np.genfromtxt('./data 1/train_1.csv', delimiter=',')\n",
    "train_data_2 = np.genfromtxt('./data 2/train_2.csv', delimiter=',')\n",
    "\n",
    "val_data_1 = np.genfromtxt('./data 1/val_1.csv', delimiter=',')\n",
    "val_data_2 = np.genfromtxt('./data 2/val_2.csv', delimiter=',')"
   ]
  },
  {
   "cell_type": "markdown",
   "source": [
    "# Reference Dictionaries\n",
    "### Sets up dictionaries to translate values to symbolic names ({0 : 'A', 1 : 'B', etc}"
   ],
   "metadata": {
    "collapsed": false,
    "pycharm": {
     "name": "#%% md\n"
    }
   }
  },
  {
   "cell_type": "code",
   "execution_count": 4,
   "metadata": {
    "pycharm": {
     "is_executing": false,
     "name": "#%%\n"
    }
   },
   "outputs": [],
   "source": [
    "# Get Value Dictionaries\n",
    "data_1 = {}\n",
    "with open('data 1/info_1.csv', mode='r') as infile:\n",
    "    reader = csv.reader(infile)\n",
    "    next(reader, None) # Skip header\n",
    "    with open('coors_new.csv', mode='w') as outfile:\n",
    "        writer = csv.writer(outfile)\n",
    "        for rows in reader:\n",
    "            data_1[int(rows[0])] = rows[1]\n",
    "data_2 = {}\n",
    "with open('data 2/info_2.csv', mode='r') as infile:\n",
    "    reader = csv.reader(infile)\n",
    "    next(reader, None) # Skip header\n",
    "    with open('coors_new.csv', mode='w') as outfile:\n",
    "        writer = csv.writer(outfile)\n",
    "        for rows in reader:\n",
    "            data_2[int(rows[0])] = rows[1]"
   ]
  },
  {
   "cell_type": "markdown",
   "source": [
    "# Plotting Utility Method\n",
    "### Reusable method to return a scatter plot of frequency distributions for a given data set\n",
    "- takes a dataset as input, and the plot title\n",
    "    - gets labels for dataset by extracting last column of each row: data_labels\n",
    "    - generates a tuple (count, label) for each label found\n",
    "    - reduces list of tuples to a set to get one of each label only\n",
    "    - assigns labels to x axis on data_x and counts to y axis on data_y"
   ],
   "metadata": {
    "collapsed": false,
    "pycharm": {
     "name": "#%% md\n"
    }
   }
  },
  {
   "cell_type": "code",
   "execution_count": 5,
   "metadata": {
    "pycharm": {
     "is_executing": false,
     "name": "#%%\n"
    }
   },
   "outputs": [],
   "source": [
    "# Distribution Plot Methods\n",
    "def distribution(data, title, ref):\n",
    "    data_labels = [ref[(row[-1])] for row in data]\n",
    "    tuples = sorted(set([(label, data_labels.count(label)) for label in data_labels]))\n",
    "    print(tuples)\n",
    "    \n",
    "    data_x = [x[0] for x in tuples]\n",
    "    data_y = [y[1] for y in tuples]\n",
    "    \n",
    "    plt.scatter(data_x, data_y)\n",
    "    plt.xlabel(\"Classes\")\n",
    "    plt.ylabel(\"Frequencies\")\n",
    "    plt.title(title)\n",
    "    plt.show()"
   ]
  },
  {
   "cell_type": "markdown",
   "source": [
    "# Distributions for Data 1 and Data 2\n",
    "- Training Set\n",
    "- Labeled Test Set\n",
    "- Validation Set"
   ],
   "metadata": {
    "collapsed": false,
    "pycharm": {
     "name": "#%% md\n"
    }
   }
  },
  {
   "cell_type": "code",
   "execution_count": 6,
   "metadata": {
    "pycharm": {
     "is_executing": false,
     "name": "#%%\n"
    }
   },
   "outputs": [
    {
     "name": "stdout",
     "text": [
      "[('A', 52), ('B', 43), ('C', 52), ('D', 40), ('E', 38), ('F', 39), ('G', 52), ('H', 44), ('I', 52), ('J', 52), ('K', 52), ('L', 52), ('M', 52), ('N', 52), ('O', 52), ('P', 49), ('Q', 47), ('R', 52), ('S', 43), ('T', 39), ('U', 40), ('V', 39), ('W', 43), ('X', 38), ('Y', 39), ('Z', 44)]\n",
      "[('A', 4), ('B', 2), ('C', 4), ('D', 3), ('E', 2), ('F', 2), ('G', 4), ('H', 3), ('I', 3), ('J', 4), ('K', 3), ('L', 4), ('M', 3), ('N', 4), ('O', 3), ('P', 3), ('Q', 3), ('R', 4), ('S', 3), ('T', 2), ('U', 3), ('V', 3), ('W', 3), ('X', 2), ('Y', 3), ('Z', 3)]\n",
      "[('A', 10), ('B', 9), ('C', 10), ('D', 8), ('E', 8), ('F', 8), ('G', 10), ('H', 9), ('I', 10), ('J', 10), ('K', 10), ('L', 10), ('M', 10), ('N', 10), ('O', 10), ('P', 10), ('Q', 10), ('R', 10), ('S', 9), ('T', 8), ('U', 8), ('V', 8), ('W', 9), ('X', 8), ('Y', 8), ('Z', 9)]\n"
     ],
     "output_type": "stream"
    },
    {
     "data": {
      "text/plain": "<Figure size 432x288 with 1 Axes>",
      "image/png": "[encoded data removed]"
     },
     "metadata": {
      "needs_background": "light"
     },
     "output_type": "display_data"
    },
    {
     "data": {
      "text/plain": "<Figure size 432x288 with 1 Axes>",
      "image/png": "[encoded data removed]"
     },
     "metadata": {
      "needs_background": "light"
     },
     "output_type": "display_data"
    },
    {
     "data": {
      "text/plain": "<Figure size 432x288 with 1 Axes>",
      "image/png": "[encoded data removed]"
     },
     "metadata": {
      "needs_background": "light"
     },
     "output_type": "display_data"
    }
   ],
   "source": [
    "# Distributions for Data 1\n",
    "distribution(train_data_1, \"Data 1 Train Class / Freq\", data_1)\n",
    "distribution(labeled_test_data_1, \"Data 1 Test Class / Freq\", data_1)\n",
    "distribution(val_data_1, \"Data 1 Validation Class / Freq\", data_1)"
   ]
  },
  {
   "cell_type": "code",
   "execution_count": 7,
   "metadata": {
    "pycharm": {
     "is_executing": false,
     "name": "#%%\n"
    }
   },
   "outputs": [
    {
     "name": "stdout",
     "text": [
      "[('alpha', 1875), ('beta', 225), ('delta', 825), ('gamma', 750), ('lambda', 225), ('mu', 750), ('omega', 225), ('pi', 825), ('sigma', 225), ('xi', 1875)]\n",
      "[('alpha', 125), ('beta', 15), ('delta', 55), ('gamma', 50), ('lambda', 15), ('mu', 50), ('omega', 15), ('pi', 55), ('sigma', 15), ('xi', 125)]\n",
      "[('alpha', 375), ('beta', 45), ('delta', 165), ('gamma', 150), ('lambda', 45), ('mu', 150), ('omega', 45), ('pi', 165), ('sigma', 45), ('xi', 375)]\n"
     ],
     "output_type": "stream"
    },
    {
     "data": {
      "text/plain": "<Figure size 432x288 with 1 Axes>",
      "image/png": "[encoded data removed]"
     },
     "metadata": {
      "needs_background": "light"
     },
     "output_type": "display_data"
    },
    {
     "data": {
      "text/plain": "<Figure size 432x288 with 1 Axes>",
      "image/png": "[encoded data removed]"
     },
     "metadata": {
      "needs_background": "light"
     },
     "output_type": "display_data"
    },
    {
     "data": {
      "text/plain": "<Figure size 432x288 with 1 Axes>",
      "image/png": "[encoded data removed]"
     },
     "metadata": {
      "needs_background": "light"
     },
     "output_type": "display_data"
    }
   ],
   "source": [
    "# Distributions for Data 2\n",
    "distribution(train_data_2, \"Data 2 Train Class / Freq\", data_2)\n",
    "distribution(labeled_test_data_2, \"Data 2 Test Class / Freq\", data_2)\n",
    "distribution(val_data_2, \"Data 2 Validation Class / Freq\", data_2)"
   ]
  },
  {
   "cell_type": "markdown",
   "source": [
    "# General Model Testing/Training Procedure (Supervised)\n",
    "### Training\n",
    "- Split training data into features vectors (x_train) and label vector (y_train)\n",
    "- Fit data to the model\n",
    "\n",
    "### Testing\n",
    "- Split test data into features vector (x_test) and label vector (y_test)\n",
    "- Get label classification vector from trained model (prediction)\n",
    "\n",
    "### Output\n",
    "- Print actual labels\n",
    "- Print model label predictions\n",
    "- Print model label predictions to csv file\n",
    "- Print prediction misses (comparision between prediction and y_test)\n",
    "- Compare model label classification vector (prediction) to label vector (y_test)\n",
    "    "
   ],
   "metadata": {
    "collapsed": false,
    "pycharm": {
     "name": "#%% md\n"
    }
   }
  },
  {
   "cell_type": "markdown",
   "source": [
    "# Gaussian Naive Bayes"
   ],
   "metadata": {
    "collapsed": false,
    "pycharm": {
     "name": "#%% md\n"
    }
   }
  },
  {
   "cell_type": "code",
   "execution_count": 8,
   "metadata": {
    "pycharm": {
     "is_executing": false,
     "name": "#%%\n"
    }
   },
   "outputs": [
    {
     "name": "stdout",
     "text": [
      "[(0, 'F'), (1, 'N'), (2, 'H'), (3, 'C'), (4, 'S'), (5, 'R'), (6, 'Z'), (7, 'X'), (8, 'W'), (9, 'U'), (10, 'G'), (11, 'J'), (12, 'L'), (13, 'T'), (14, 'B'), (15, 'F'), (16, 'B'), (17, 'I'), (18, 'C'), (19, 'M'), (20, 'Q'), (21, 'A'), (22, 'Z'), (23, 'R'), (24, 'Q'), (25, 'B'), (26, 'W'), (27, 'I'), (28, 'V'), (29, 'M'), (30, 'B'), (31, 'M'), (32, 'K'), (33, 'Q'), (34, 'K'), (35, 'R'), (36, 'Q'), (37, 'B'), (38, 'P'), (39, 'M'), (40, 'Q'), (41, 'L'), (42, 'N'), (43, 'B'), (44, 'N'), (45, 'R'), (46, 'M'), (47, 'O'), (48, 'Y'), (49, 'A'), (50, 'A'), (51, 'D'), (52, 'W'), (53, 'U'), (54, 'D'), (55, 'O'), (56, 'Z'), (57, 'J'), (58, 'P'), (59, 'O'), (60, 'N'), (61, 'C'), (62, 'L'), (63, 'M'), (64, 'R'), (65, 'G'), (66, 'G'), (67, 'U'), (68, 'N'), (69, 'D'), (70, 'Y'), (71, 'W'), (72, 'V'), (73, 'I'), (74, 'V'), (75, 'S'), (76, 'A'), (77, 'R'), (78, 'M'), (79, 'T')]\n[(0, 'E'), (1, 'N'), (2, 'H'), (3, 'C'), (4, 'S'), (5, 'R'), (6, 'L'), (7, 'X'), (8, 'W'), (9, 'U'), (10, 'C'), (11, 'J'), (12, 'L'), (13, 'T'), (14, 'E'), (15, 'F'), (16, 'G'), (17, 'I'), (18, 'C'), (19, 'A'), (20, 'Q'), (21, 'A'), (22, 'Z'), (23, 'R'), (24, 'J'), (25, 'B'), (26, 'V'), (27, 'I'), (28, 'Y'), (29, 'M'), (30, 'D'), (31, 'X'), (32, 'R'), (33, 'Q'), (34, 'K'), (35, 'K'), (36, 'S'), (37, 'J'), (38, 'P'), (39, 'F'), (40, 'Q'), (41, 'L'), (42, 'N'), (43, 'B'), (44, 'N'), (45, 'K'), (46, 'Z'), (47, 'O'), (48, 'Y'), (49, 'A'), (50, 'H'), (51, 'D'), (52, 'W'), (53, 'U'), (54, 'D'), (55, 'O'), (56, 'Z'), (57, 'J'), (58, 'P'), (59, 'O'), (60, 'H'), (61, 'C'), (62, 'L'), (63, 'M'), (64, 'A'), (65, 'G'), (66, 'G'), (67, 'U'), (68, 'M'), (69, 'N'), (70, 'Y'), (71, 'W'), (72, 'V'), (73, 'I'), (74, 'V'), (75, 'S'), (76, 'P'), (77, 'R'), (78, 'G'), (79, 'T')]\nMissed: 25 out of 80\n"
     ],
     "output_type": "stream"
    }
   ],
   "source": [
    "# GNB-DS1\n",
    "x_train = train_data_1[ :, :-1]\n",
    "y_train = train_data_1[ :, -1]\n",
    "\n",
    "gnb.fit(x_train, y_train)\n",
    "\n",
    "x_test = labeled_test_data_1[ :, :-1]\n",
    "y_test = labeled_test_data_1[ :, -1]\n",
    "\n",
    "prediction = gnb.predict(x_test)\n",
    "print([(entry, data_1[prediction[entry]]) for entry in range(prediction.size)])\n",
    "print([(entry, data_1[y_test[entry]]) for entry in range(y_test.size)])\n",
    "print(f'Missed: {(y_test != prediction).sum()} out of {len(y_test)}')\n",
    "with open('GNB-DS1.csv', 'w', newline='') as csvfile:\n",
    "    writer = csv.writer(csvfile)\n",
    "    for entry in range(prediction.size):\n",
    "        writer.writerow([entry, int(prediction[entry])])"
   ]
  },
  {
   "cell_type": "code",
   "execution_count": 9,
   "metadata": {
    "pycharm": {
     "is_executing": false,
     "name": "#%%\n"
    }
   },
   "outputs": [
    {
     "name": "stdout",
     "text": [
      "[(0, 'xi'), (1, 'sigma'), (2, 'pi'), (3, 'delta'), (4, 'xi'), (5, 'sigma'), (6, 'alpha'), (7, 'sigma'), (8, 'lambda'), (9, 'xi'), (10, 'pi'), (11, 'alpha'), (12, 'sigma'), (13, 'xi'), (14, 'beta'), (15, 'sigma'), (16, 'xi'), (17, 'xi'), (18, 'omega'), (19, 'alpha'), (20, 'lambda'), (21, 'alpha'), (22, 'beta'), (23, 'omega'), (24, 'xi'), (25, 'beta'), (26, 'alpha'), (27, 'alpha'), (28, 'beta'), (29, 'beta'), (30, 'xi'), (31, 'beta'), (32, 'beta'), (33, 'xi'), (34, 'beta'), (35, 'alpha'), (36, 'lambda'), (37, 'xi'), (38, 'alpha'), (39, 'alpha'), (40, 'sigma'), (41, 'omega'), (42, 'gamma'), (43, 'delta'), (44, 'xi'), (45, 'xi'), (46, 'alpha'), (47, 'sigma'), (48, 'lambda'), (49, 'alpha'), (50, 'pi'), (51, 'gamma'), (52, 'delta'), (53, 'xi'), (54, 'pi'), (55, 'pi'), (56, 'mu'), (57, 'delta'), (58, 'lambda'), (59, 'alpha'), (60, 'alpha'), (61, 'lambda'), (62, 'sigma'), (63, 'pi'), (64, 'lambda'), (65, 'alpha'), (66, 'alpha'), (67, 'xi'), (68, 'pi'), (69, 'pi'), (70, 'sigma'), (71, 'pi'), (72, 'alpha'), (73, 'xi'), (74, 'delta'), (75, 'beta'), (76, 'xi'), (77, 'alpha'), (78, 'sigma'), (79, 'gamma'), (80, 'alpha'), (81, 'alpha'), (82, 'gamma'), (83, 'lambda'), (84, 'gamma'), (85, 'lambda'), (86, 'xi'), (87, 'pi'), (88, 'omega'), (89, 'lambda'), (90, 'mu'), (91, 'xi'), (92, 'alpha'), (93, 'alpha'), (94, 'delta'), (95, 'alpha'), (96, 'xi'), (97, 'lambda'), (98, 'pi'), (99, 'pi'), (100, 'pi'), (101, 'beta'), (102, 'beta'), (103, 'xi'), (104, 'xi'), (105, 'delta'), (106, 'lambda'), (107, 'delta'), (108, 'delta'), (109, 'gamma'), (110, 'alpha'), (111, 'xi'), (112, 'gamma'), (113, 'delta'), (114, 'mu'), (115, 'delta'), (116, 'mu'), (117, 'pi'), (118, 'beta'), (119, 'xi'), (120, 'alpha'), (121, 'xi'), (122, 'gamma'), (123, 'xi'), (124, 'alpha'), (125, 'alpha'), (126, 'lambda'), (127, 'xi'), (128, 'gamma'), (129, 'xi'), (130, 'alpha'), (131, 'alpha'), (132, 'lambda'), (133, 'alpha'), (134, 'xi'), (135, 'alpha'), (136, 'gamma'), (137, 'lambda'), (138, 'pi'), (139, 'beta'), (140, 'delta'), (141, 'sigma'), (142, 'alpha'), (143, 'xi'), (144, 'xi'), (145, 'gamma'), (146, 'xi'), (147, 'xi'), (148, 'delta'), (149, 'alpha'), (150, 'alpha'), (151, 'delta'), (152, 'xi'), (153, 'alpha'), (154, 'lambda'), (155, 'sigma'), (156, 'alpha'), (157, 'delta'), (158, 'delta'), (159, 'sigma'), (160, 'pi'), (161, 'beta'), (162, 'alpha'), (163, 'alpha'), (164, 'alpha'), (165, 'alpha'), (166, 'alpha'), (167, 'alpha'), (168, 'xi'), (169, 'pi'), (170, 'delta'), (171, 'xi'), (172, 'xi'), (173, 'gamma'), (174, 'gamma'), (175, 'alpha'), (176, 'alpha'), (177, 'sigma'), (178, 'beta'), (179, 'delta'), (180, 'xi'), (181, 'alpha'), (182, 'xi'), (183, 'xi'), (184, 'gamma'), (185, 'alpha'), (186, 'xi'), (187, 'xi'), (188, 'gamma'), (189, 'sigma'), (190, 'alpha'), (191, 'xi'), (192, 'alpha'), (193, 'lambda'), (194, 'delta'), (195, 'omega'), (196, 'xi'), (197, 'omega'), (198, 'lambda'), (199, 'xi'), (200, 'lambda'), (201, 'pi'), (202, 'xi'), (203, 'pi'), (204, 'delta'), (205, 'delta'), (206, 'beta'), (207, 'alpha'), (208, 'delta'), (209, 'sigma'), (210, 'gamma'), (211, 'lambda'), (212, 'sigma'), (213, 'pi'), (214, 'xi'), (215, 'sigma'), (216, 'beta'), (217, 'alpha'), (218, 'pi'), (219, 'xi'), (220, 'beta'), (221, 'alpha'), (222, 'lambda'), (223, 'gamma'), (224, 'delta'), (225, 'sigma'), (226, 'beta'), (227, 'delta'), (228, 'gamma'), (229, 'alpha'), (230, 'xi'), (231, 'alpha'), (232, 'gamma'), (233, 'xi'), (234, 'alpha'), (235, 'lambda'), (236, 'lambda'), (237, 'xi'), (238, 'beta'), (239, 'pi'), (240, 'beta'), (241, 'sigma'), (242, 'xi'), (243, 'lambda'), (244, 'alpha'), (245, 'alpha'), (246, 'delta'), (247, 'gamma'), (248, 'xi'), (249, 'omega'), (250, 'xi'), (251, 'alpha'), (252, 'alpha'), (253, 'alpha'), (254, 'xi'), (255, 'pi'), (256, 'xi'), (257, 'sigma'), (258, 'alpha'), (259, 'alpha'), (260, 'xi'), (261, 'pi'), (262, 'alpha'), (263, 'alpha'), (264, 'lambda'), (265, 'lambda'), (266, 'xi'), (267, 'beta'), (268, 'omega'), (269, 'alpha'), (270, 'delta'), (271, 'gamma'), (272, 'delta'), (273, 'alpha'), (274, 'omega'), (275, 'alpha'), (276, 'delta'), (277, 'beta'), (278, 'xi'), (279, 'delta'), (280, 'pi'), (281, 'sigma'), (282, 'lambda'), (283, 'lambda'), (284, 'sigma'), (285, 'xi'), (286, 'pi'), (287, 'alpha'), (288, 'xi'), (289, 'alpha'), (290, 'sigma'), (291, 'xi'), (292, 'beta'), (293, 'mu'), (294, 'alpha'), (295, 'xi'), (296, 'alpha'), (297, 'pi'), (298, 'mu'), (299, 'xi'), (300, 'sigma'), (301, 'delta'), (302, 'xi'), (303, 'delta'), (304, 'alpha'), (305, 'alpha'), (306, 'alpha'), (307, 'omega'), (308, 'pi'), (309, 'sigma'), (310, 'xi'), (311, 'delta'), (312, 'pi'), (313, 'xi'), (314, 'alpha'), (315, 'beta'), (316, 'xi'), (317, 'xi'), (318, 'xi'), (319, 'omega'), (320, 'xi'), (321, 'alpha'), (322, 'lambda'), (323, 'delta'), (324, 'mu'), (325, 'xi'), (326, 'xi'), (327, 'pi'), (328, 'alpha'), (329, 'xi'), (330, 'lambda'), (331, 'alpha'), (332, 'xi'), (333, 'gamma'), (334, 'alpha'), (335, 'lambda'), (336, 'omega'), (337, 'alpha'), (338, 'xi'), (339, 'xi'), (340, 'beta'), (341, 'alpha'), (342, 'lambda'), (343, 'mu'), (344, 'sigma'), (345, 'xi'), (346, 'delta'), (347, 'gamma'), (348, 'beta'), (349, 'xi'), (350, 'sigma'), (351, 'sigma'), (352, 'sigma'), (353, 'beta'), (354, 'alpha'), (355, 'xi'), (356, 'xi'), (357, 'alpha'), (358, 'alpha'), (359, 'alpha'), (360, 'sigma'), (361, 'xi'), (362, 'gamma'), (363, 'beta'), (364, 'xi'), (365, 'beta'), (366, 'sigma'), (367, 'alpha'), (368, 'alpha'), (369, 'sigma'), (370, 'xi'), (371, 'delta'), (372, 'alpha'), (373, 'delta'), (374, 'alpha'), (375, 'lambda'), (376, 'alpha'), (377, 'xi'), (378, 'mu'), (379, 'mu'), (380, 'alpha'), (381, 'xi'), (382, 'alpha'), (383, 'alpha'), (384, 'alpha'), (385, 'xi'), (386, 'gamma'), (387, 'gamma'), (388, 'xi'), (389, 'pi'), (390, 'xi'), (391, 'xi'), (392, 'sigma'), (393, 'alpha'), (394, 'xi'), (395, 'alpha'), (396, 'beta'), (397, 'mu'), (398, 'beta'), (399, 'alpha'), (400, 'alpha'), (401, 'xi'), (402, 'pi'), (403, 'xi'), (404, 'beta'), (405, 'omega'), (406, 'mu'), (407, 'xi'), (408, 'mu'), (409, 'gamma'), (410, 'delta'), (411, 'lambda'), (412, 'alpha'), (413, 'pi'), (414, 'alpha'), (415, 'alpha'), (416, 'xi'), (417, 'alpha'), (418, 'xi'), (419, 'delta'), (420, 'xi'), (421, 'lambda'), (422, 'pi'), (423, 'xi'), (424, 'beta'), (425, 'pi'), (426, 'xi'), (427, 'delta'), (428, 'gamma'), (429, 'beta'), (430, 'xi'), (431, 'sigma'), (432, 'alpha'), (433, 'xi'), (434, 'xi'), (435, 'alpha'), (436, 'alpha'), (437, 'lambda'), (438, 'xi'), (439, 'delta'), (440, 'alpha'), (441, 'pi'), (442, 'pi'), (443, 'alpha'), (444, 'sigma'), (445, 'xi'), (446, 'beta'), (447, 'beta'), (448, 'gamma'), (449, 'delta'), (450, 'lambda'), (451, 'lambda'), (452, 'alpha'), (453, 'xi'), (454, 'mu'), (455, 'gamma'), (456, 'alpha'), (457, 'pi'), (458, 'alpha'), (459, 'xi'), (460, 'alpha'), (461, 'beta'), (462, 'beta'), (463, 'xi'), (464, 'xi'), (465, 'xi'), (466, 'alpha'), (467, 'mu'), (468, 'omega'), (469, 'beta'), (470, 'xi'), (471, 'mu'), (472, 'beta'), (473, 'xi'), (474, 'sigma'), (475, 'delta'), (476, 'delta'), (477, 'pi'), (478, 'lambda'), (479, 'alpha'), (480, 'lambda'), (481, 'alpha'), (482, 'alpha'), (483, 'beta'), (484, 'lambda'), (485, 'gamma'), (486, 'xi'), (487, 'lambda'), (488, 'xi'), (489, 'pi'), (490, 'sigma'), (491, 'delta'), (492, 'gamma'), (493, 'alpha'), (494, 'lambda'), (495, 'alpha'), (496, 'sigma'), (497, 'sigma'), (498, 'pi'), (499, 'alpha'), (500, 'xi'), (501, 'pi'), (502, 'xi'), (503, 'gamma'), (504, 'xi'), (505, 'pi'), (506, 'beta'), (507, 'alpha'), (508, 'xi'), (509, 'mu'), (510, 'lambda'), (511, 'alpha'), (512, 'alpha'), (513, 'xi'), (514, 'gamma'), (515, 'sigma'), (516, 'alpha'), (517, 'xi'), (518, 'lambda'), (519, 'delta')]\n[(0, 'xi'), (1, 'pi'), (2, 'gamma'), (3, 'delta'), (4, 'xi'), (5, 'alpha'), (6, 'alpha'), (7, 'sigma'), (8, 'mu'), (9, 'xi'), (10, 'pi'), (11, 'alpha'), (12, 'sigma'), (13, 'xi'), (14, 'pi'), (15, 'sigma'), (16, 'xi'), (17, 'xi'), (18, 'omega'), (19, 'alpha'), (20, 'lambda'), (21, 'alpha'), (22, 'beta'), (23, 'omega'), (24, 'xi'), (25, 'mu'), (26, 'alpha'), (27, 'alpha'), (28, 'mu'), (29, 'beta'), (30, 'xi'), (31, 'mu'), (32, 'mu'), (33, 'xi'), (34, 'mu'), (35, 'alpha'), (36, 'xi'), (37, 'xi'), (38, 'alpha'), (39, 'alpha'), (40, 'alpha'), (41, 'omega'), (42, 'pi'), (43, 'delta'), (44, 'xi'), (45, 'delta'), (46, 'alpha'), (47, 'alpha'), (48, 'delta'), (49, 'alpha'), (50, 'mu'), (51, 'xi'), (52, 'delta'), (53, 'xi'), (54, 'pi'), (55, 'alpha'), (56, 'mu'), (57, 'delta'), (58, 'gamma'), (59, 'alpha'), (60, 'alpha'), (61, 'xi'), (62, 'pi'), (63, 'pi'), (64, 'xi'), (65, 'pi'), (66, 'alpha'), (67, 'gamma'), (68, 'pi'), (69, 'xi'), (70, 'sigma'), (71, 'alpha'), (72, 'alpha'), (73, 'xi'), (74, 'xi'), (75, 'mu'), (76, 'gamma'), (77, 'alpha'), (78, 'gamma'), (79, 'xi'), (80, 'omega'), (81, 'alpha'), (82, 'pi'), (83, 'delta'), (84, 'pi'), (85, 'lambda'), (86, 'xi'), (87, 'xi'), (88, 'omega'), (89, 'lambda'), (90, 'mu'), (91, 'delta'), (92, 'alpha'), (93, 'alpha'), (94, 'delta'), (95, 'alpha'), (96, 'xi'), (97, 'xi'), (98, 'pi'), (99, 'pi'), (100, 'xi'), (101, 'mu'), (102, 'mu'), (103, 'beta'), (104, 'gamma'), (105, 'delta'), (106, 'mu'), (107, 'delta'), (108, 'delta'), (109, 'gamma'), (110, 'alpha'), (111, 'xi'), (112, 'beta'), (113, 'delta'), (114, 'mu'), (115, 'xi'), (116, 'mu'), (117, 'gamma'), (118, 'mu'), (119, 'xi'), (120, 'alpha'), (121, 'delta'), (122, 'delta'), (123, 'xi'), (124, 'alpha'), (125, 'alpha'), (126, 'lambda'), (127, 'xi'), (128, 'gamma'), (129, 'xi'), (130, 'alpha'), (131, 'alpha'), (132, 'mu'), (133, 'alpha'), (134, 'xi'), (135, 'alpha'), (136, 'gamma'), (137, 'xi'), (138, 'pi'), (139, 'beta'), (140, 'delta'), (141, 'pi'), (142, 'alpha'), (143, 'xi'), (144, 'gamma'), (145, 'gamma'), (146, 'xi'), (147, 'xi'), (148, 'xi'), (149, 'alpha'), (150, 'alpha'), (151, 'delta'), (152, 'xi'), (153, 'alpha'), (154, 'delta'), (155, 'pi'), (156, 'alpha'), (157, 'delta'), (158, 'delta'), (159, 'sigma'), (160, 'pi'), (161, 'mu'), (162, 'pi'), (163, 'alpha'), (164, 'alpha'), (165, 'alpha'), (166, 'alpha'), (167, 'alpha'), (168, 'xi'), (169, 'pi'), (170, 'delta'), (171, 'xi'), (172, 'delta'), (173, 'pi'), (174, 'gamma'), (175, 'alpha'), (176, 'alpha'), (177, 'pi'), (178, 'mu'), (179, 'delta'), (180, 'xi'), (181, 'alpha'), (182, 'gamma'), (183, 'xi'), (184, 'gamma'), (185, 'alpha'), (186, 'xi'), (187, 'gamma'), (188, 'xi'), (189, 'sigma'), (190, 'alpha'), (191, 'xi'), (192, 'alpha'), (193, 'xi'), (194, 'delta'), (195, 'omega'), (196, 'xi'), (197, 'omega'), (198, 'xi'), (199, 'xi'), (200, 'xi'), (201, 'pi'), (202, 'xi'), (203, 'pi'), (204, 'pi'), (205, 'alpha'), (206, 'mu'), (207, 'alpha'), (208, 'delta'), (209, 'gamma'), (210, 'gamma'), (211, 'delta'), (212, 'pi'), (213, 'pi'), (214, 'xi'), (215, 'pi'), (216, 'mu'), (217, 'alpha'), (218, 'alpha'), (219, 'xi'), (220, 'mu'), (221, 'alpha'), (222, 'xi'), (223, 'gamma'), (224, 'gamma'), (225, 'sigma'), (226, 'mu'), (227, 'delta'), (228, 'gamma'), (229, 'alpha'), (230, 'xi'), (231, 'alpha'), (232, 'xi'), (233, 'xi'), (234, 'alpha'), (235, 'lambda'), (236, 'delta'), (237, 'xi'), (238, 'beta'), (239, 'alpha'), (240, 'beta'), (241, 'pi'), (242, 'xi'), (243, 'xi'), (244, 'alpha'), (245, 'alpha'), (246, 'delta'), (247, 'pi'), (248, 'xi'), (249, 'omega'), (250, 'xi'), (251, 'alpha'), (252, 'alpha'), (253, 'alpha'), (254, 'xi'), (255, 'pi'), (256, 'xi'), (257, 'sigma'), (258, 'alpha'), (259, 'alpha'), (260, 'gamma'), (261, 'alpha'), (262, 'alpha'), (263, 'alpha'), (264, 'gamma'), (265, 'delta'), (266, 'xi'), (267, 'beta'), (268, 'omega'), (269, 'xi'), (270, 'delta'), (271, 'gamma'), (272, 'xi'), (273, 'alpha'), (274, 'omega'), (275, 'pi'), (276, 'delta'), (277, 'mu'), (278, 'xi'), (279, 'delta'), (280, 'pi'), (281, 'gamma'), (282, 'gamma'), (283, 'lambda'), (284, 'sigma'), (285, 'xi'), (286, 'pi'), (287, 'alpha'), (288, 'delta'), (289, 'alpha'), (290, 'sigma'), (291, 'xi'), (292, 'beta'), (293, 'mu'), (294, 'alpha'), (295, 'xi'), (296, 'alpha'), (297, 'pi'), (298, 'mu'), (299, 'xi'), (300, 'pi'), (301, 'delta'), (302, 'xi'), (303, 'delta'), (304, 'alpha'), (305, 'alpha'), (306, 'alpha'), (307, 'omega'), (308, 'lambda'), (309, 'alpha'), (310, 'xi'), (311, 'xi'), (312, 'alpha'), (313, 'gamma'), (314, 'alpha'), (315, 'mu'), (316, 'delta'), (317, 'xi'), (318, 'xi'), (319, 'omega'), (320, 'xi'), (321, 'mu'), (322, 'xi'), (323, 'xi'), (324, 'pi'), (325, 'delta'), (326, 'xi'), (327, 'pi'), (328, 'alpha'), (329, 'delta'), (330, 'delta'), (331, 'alpha'), (332, 'xi'), (333, 'gamma'), (334, 'alpha'), (335, 'lambda'), (336, 'omega'), (337, 'alpha'), (338, 'xi'), (339, 'gamma'), (340, 'mu'), (341, 'mu'), (342, 'delta'), (343, 'mu'), (344, 'pi'), (345, 'gamma'), (346, 'delta'), (347, 'gamma'), (348, 'xi'), (349, 'xi'), (350, 'delta'), (351, 'sigma'), (352, 'alpha'), (353, 'mu'), (354, 'alpha'), (355, 'gamma'), (356, 'xi'), (357, 'alpha'), (358, 'alpha'), (359, 'alpha'), (360, 'gamma'), (361, 'xi'), (362, 'pi'), (363, 'delta'), (364, 'gamma'), (365, 'beta'), (366, 'gamma'), (367, 'alpha'), (368, 'alpha'), (369, 'sigma'), (370, 'xi'), (371, 'delta'), (372, 'alpha'), (373, 'delta'), (374, 'alpha'), (375, 'gamma'), (376, 'alpha'), (377, 'xi'), (378, 'mu'), (379, 'mu'), (380, 'alpha'), (381, 'xi'), (382, 'alpha'), (383, 'alpha'), (384, 'alpha'), (385, 'xi'), (386, 'gamma'), (387, 'gamma'), (388, 'xi'), (389, 'lambda'), (390, 'xi'), (391, 'xi'), (392, 'pi'), (393, 'alpha'), (394, 'delta'), (395, 'alpha'), (396, 'beta'), (397, 'mu'), (398, 'beta'), (399, 'alpha'), (400, 'alpha'), (401, 'xi'), (402, 'lambda'), (403, 'xi'), (404, 'mu'), (405, 'omega'), (406, 'mu'), (407, 'xi'), (408, 'mu'), (409, 'gamma'), (410, 'delta'), (411, 'lambda'), (412, 'alpha'), (413, 'xi'), (414, 'alpha'), (415, 'alpha'), (416, 'xi'), (417, 'alpha'), (418, 'gamma'), (419, 'delta'), (420, 'gamma'), (421, 'xi'), (422, 'sigma'), (423, 'xi'), (424, 'gamma'), (425, 'pi'), (426, 'xi'), (427, 'delta'), (428, 'gamma'), (429, 'mu'), (430, 'xi'), (431, 'gamma'), (432, 'alpha'), (433, 'xi'), (434, 'xi'), (435, 'alpha'), (436, 'alpha'), (437, 'xi'), (438, 'xi'), (439, 'delta'), (440, 'alpha'), (441, 'pi'), (442, 'pi'), (443, 'alpha'), (444, 'pi'), (445, 'xi'), (446, 'mu'), (447, 'mu'), (448, 'pi'), (449, 'gamma'), (450, 'xi'), (451, 'xi'), (452, 'alpha'), (453, 'xi'), (454, 'mu'), (455, 'pi'), (456, 'alpha'), (457, 'pi'), (458, 'alpha'), (459, 'xi'), (460, 'alpha'), (461, 'mu'), (462, 'mu'), (463, 'xi'), (464, 'mu'), (465, 'gamma'), (466, 'alpha'), (467, 'beta'), (468, 'omega'), (469, 'mu'), (470, 'xi'), (471, 'mu'), (472, 'beta'), (473, 'xi'), (474, 'sigma'), (475, 'xi'), (476, 'delta'), (477, 'pi'), (478, 'lambda'), (479, 'lambda'), (480, 'lambda'), (481, 'pi'), (482, 'alpha'), (483, 'alpha'), (484, 'xi'), (485, 'gamma'), (486, 'xi'), (487, 'mu'), (488, 'xi'), (489, 'pi'), (490, 'alpha'), (491, 'delta'), (492, 'gamma'), (493, 'alpha'), (494, 'mu'), (495, 'alpha'), (496, 'sigma'), (497, 'pi'), (498, 'pi'), (499, 'alpha'), (500, 'xi'), (501, 'pi'), (502, 'xi'), (503, 'gamma'), (504, 'xi'), (505, 'pi'), (506, 'beta'), (507, 'alpha'), (508, 'delta'), (509, 'mu'), (510, 'xi'), (511, 'alpha'), (512, 'alpha'), (513, 'xi'), (514, 'gamma'), (515, 'pi'), (516, 'alpha'), (517, 'xi'), (518, 'lambda'), (519, 'delta')]\n",
      "Missed: 172 out of 520\n"
     ],
     "output_type": "stream"
    }
   ],
   "source": [
    "# GNB-DS2\n",
    "x_train = train_data_2[ :, :-1]\n",
    "y_train = train_data_2[ :, -1]\n",
    "\n",
    "gnb.fit(x_train, y_train)\n",
    "\n",
    "x_test = labeled_test_data_2[ :, :-1]\n",
    "y_test = labeled_test_data_2[ :, -1]\n",
    "\n",
    "prediction = gnb.predict(x_test)\n",
    "print([(entry, data_2[prediction[entry]]) for entry in range(prediction.size)])\n",
    "print([(entry, data_2[y_test[entry]]) for entry in range(y_test.size)])\n",
    "print(f'Missed: {(y_test != prediction).sum()} out of {len(y_test)}')\n",
    "with open('GNB-DS2.csv', 'w', newline='') as csvfile:\n",
    "    writer = csv.writer(csvfile)\n",
    "    for entry in range(prediction.size):\n",
    "        writer.writerow([entry, int(prediction[entry])])"
   ]
  },
  {
   "cell_type": "markdown",
   "source": [
    "# Baseline Decision Trees\n",
    "### Parameters\n",
    "- splitting criterion: entropy\n",
    "- maximum depth: none\n",
    "- min # of samples to split an internal node: 2\n",
    "- min impurity decrease: 0.0\n",
    "- class weight: none"
   ],
   "metadata": {
    "collapsed": false,
    "pycharm": {
     "name": "#%% md\n"
    }
   }
  },
  {
   "cell_type": "code",
   "execution_count": 10,
   "metadata": {
    "pycharm": {
     "is_executing": false,
     "name": "#%%%\n"
    }
   },
   "outputs": [
    {
     "name": "stdout",
     "text": [
      "[(0, 'Z'), (1, 'N'), (2, 'W'), (3, 'C'), (4, 'S'), (5, 'R'), (6, 'L'), (7, 'N'), (8, 'N'), (9, 'U'), (10, 'G'), (11, 'J'), (12, 'L'), (13, 'J'), (14, 'E'), (15, 'F'), (16, 'G'), (17, 'D'), (18, 'C'), (19, 'M'), (20, 'D'), (21, 'A'), (22, 'J'), (23, 'R'), (24, 'J'), (25, 'E'), (26, 'W'), (27, 'U'), (28, 'X'), (29, 'L'), (30, 'B'), (31, 'X'), (32, 'G'), (33, 'O'), (34, 'M'), (35, 'Y'), (36, 'S'), (37, 'T'), (38, 'J'), (39, 'R'), (40, 'Q'), (41, 'U'), (42, 'N'), (43, 'P'), (44, 'N'), (45, 'V'), (46, 'N'), (47, 'O'), (48, 'Y'), (49, 'A'), (50, 'H'), (51, 'D'), (52, 'V'), (53, 'U'), (54, 'P'), (55, 'O'), (56, 'W'), (57, 'J'), (58, 'B'), (59, 'O'), (60, 'N'), (61, 'C'), (62, 'L'), (63, 'K'), (64, 'A'), (65, 'A'), (66, 'C'), (67, 'U'), (68, 'Y'), (69, 'V'), (70, 'Y'), (71, 'A'), (72, 'V'), (73, 'I'), (74, 'V'), (75, 'S'), (76, 'P'), (77, 'F'), (78, 'C'), (79, 'T')]\n[(0, 'E'), (1, 'N'), (2, 'H'), (3, 'C'), (4, 'S'), (5, 'R'), (6, 'L'), (7, 'X'), (8, 'W'), (9, 'U'), (10, 'C'), (11, 'J'), (12, 'L'), (13, 'T'), (14, 'E'), (15, 'F'), (16, 'G'), (17, 'I'), (18, 'C'), (19, 'A'), (20, 'Q'), (21, 'A'), (22, 'Z'), (23, 'R'), (24, 'J'), (25, 'B'), (26, 'V'), (27, 'I'), (28, 'Y'), (29, 'M'), (30, 'D'), (31, 'X'), (32, 'R'), (33, 'Q'), (34, 'K'), (35, 'K'), (36, 'S'), (37, 'J'), (38, 'P'), (39, 'F'), (40, 'Q'), (41, 'L'), (42, 'N'), (43, 'B'), (44, 'N'), (45, 'K'), (46, 'Z'), (47, 'O'), (48, 'Y'), (49, 'A'), (50, 'H'), (51, 'D'), (52, 'W'), (53, 'U'), (54, 'D'), (55, 'O'), (56, 'Z'), (57, 'J'), (58, 'P'), (59, 'O'), (60, 'H'), (61, 'C'), (62, 'L'), (63, 'M'), (64, 'A'), (65, 'G'), (66, 'G'), (67, 'U'), (68, 'M'), (69, 'N'), (70, 'Y'), (71, 'W'), (72, 'V'), (73, 'I'), (74, 'V'), (75, 'S'), (76, 'P'), (77, 'R'), (78, 'G'), (79, 'T')]\nMissed: 40 out of 80\n"
     ],
     "output_type": "stream"
    }
   ],
   "source": [
    "# Base-DT-DS1\n",
    "x_train = train_data_1[ :, :-1]\n",
    "y_train = train_data_1[ :, -1]\n",
    "\n",
    "base_t.fit(x_train, y_train)\n",
    "\n",
    "x_test = labeled_test_data_1[ :, :-1]\n",
    "y_test = labeled_test_data_1[ :, -1]\n",
    "\n",
    "prediction = base_t.predict(x_test)\n",
    "print([(entry, data_1[prediction[entry]]) for entry in range(prediction.size)])\n",
    "print([(entry, data_1[y_test[entry]]) for entry in range(y_test.size)])\n",
    "print(f'Missed: {(y_test != prediction).sum()} out of {len(y_test)}')\n",
    "\n",
    "with open('Base-DT-DS1.csv', 'w', newline='') as csvfile:\n",
    "    writer = csv.writer(csvfile)\n",
    "    for entry in range(prediction.size):\n",
    "        writer.writerow([entry, int(prediction[entry])])"
   ]
  },
  {
   "cell_type": "code",
   "execution_count": 11,
   "metadata": {
    "pycharm": {
     "is_executing": false,
     "name": "#%%\n"
    }
   },
   "outputs": [
    {
     "name": "stdout",
     "text": [
      "[(0, 'xi'), (1, 'gamma'), (2, 'mu'), (3, 'delta'), (4, 'xi'), (5, 'sigma'), (6, 'alpha'), (7, 'sigma'), (8, 'mu'), (9, 'xi'), (10, 'xi'), (11, 'alpha'), (12, 'sigma'), (13, 'xi'), (14, 'pi'), (15, 'alpha'), (16, 'xi'), (17, 'xi'), (18, 'omega'), (19, 'alpha'), (20, 'lambda'), (21, 'alpha'), (22, 'xi'), (23, 'omega'), (24, 'xi'), (25, 'mu'), (26, 'alpha'), (27, 'alpha'), (28, 'mu'), (29, 'mu'), (30, 'xi'), (31, 'mu'), (32, 'mu'), (33, 'xi'), (34, 'pi'), (35, 'alpha'), (36, 'xi'), (37, 'xi'), (38, 'alpha'), (39, 'alpha'), (40, 'gamma'), (41, 'omega'), (42, 'pi'), (43, 'xi'), (44, 'xi'), (45, 'gamma'), (46, 'alpha'), (47, 'alpha'), (48, 'delta'), (49, 'alpha'), (50, 'alpha'), (51, 'pi'), (52, 'delta'), (53, 'xi'), (54, 'pi'), (55, 'alpha'), (56, 'mu'), (57, 'delta'), (58, 'xi'), (59, 'alpha'), (60, 'alpha'), (61, 'delta'), (62, 'pi'), (63, 'pi'), (64, 'xi'), (65, 'pi'), (66, 'alpha'), (67, 'gamma'), (68, 'pi'), (69, 'xi'), (70, 'alpha'), (71, 'alpha'), (72, 'alpha'), (73, 'delta'), (74, 'gamma'), (75, 'sigma'), (76, 'delta'), (77, 'alpha'), (78, 'xi'), (79, 'delta'), (80, 'omega'), (81, 'sigma'), (82, 'pi'), (83, 'delta'), (84, 'pi'), (85, 'lambda'), (86, 'xi'), (87, 'xi'), (88, 'omega'), (89, 'lambda'), (90, 'mu'), (91, 'xi'), (92, 'alpha'), (93, 'alpha'), (94, 'xi'), (95, 'alpha'), (96, 'xi'), (97, 'xi'), (98, 'pi'), (99, 'pi'), (100, 'delta'), (101, 'mu'), (102, 'mu'), (103, 'beta'), (104, 'xi'), (105, 'delta'), (106, 'mu'), (107, 'delta'), (108, 'xi'), (109, 'gamma'), (110, 'alpha'), (111, 'xi'), (112, 'gamma'), (113, 'delta'), (114, 'mu'), (115, 'xi'), (116, 'mu'), (117, 'sigma'), (118, 'mu'), (119, 'xi'), (120, 'alpha'), (121, 'delta'), (122, 'delta'), (123, 'xi'), (124, 'alpha'), (125, 'alpha'), (126, 'beta'), (127, 'xi'), (128, 'delta'), (129, 'xi'), (130, 'alpha'), (131, 'sigma'), (132, 'mu'), (133, 'alpha'), (134, 'xi'), (135, 'alpha'), (136, 'gamma'), (137, 'xi'), (138, 'gamma'), (139, 'mu'), (140, 'delta'), (141, 'pi'), (142, 'alpha'), (143, 'delta'), (144, 'gamma'), (145, 'gamma'), (146, 'xi'), (147, 'gamma'), (148, 'xi'), (149, 'alpha'), (150, 'alpha'), (151, 'delta'), (152, 'xi'), (153, 'alpha'), (154, 'delta'), (155, 'pi'), (156, 'alpha'), (157, 'delta'), (158, 'delta'), (159, 'sigma'), (160, 'mu'), (161, 'mu'), (162, 'pi'), (163, 'alpha'), (164, 'alpha'), (165, 'alpha'), (166, 'alpha'), (167, 'sigma'), (168, 'xi'), (169, 'pi'), (170, 'delta'), (171, 'xi'), (172, 'delta'), (173, 'pi'), (174, 'gamma'), (175, 'alpha'), (176, 'alpha'), (177, 'gamma'), (178, 'mu'), (179, 'delta'), (180, 'gamma'), (181, 'alpha'), (182, 'xi'), (183, 'xi'), (184, 'xi'), (185, 'alpha'), (186, 'xi'), (187, 'gamma'), (188, 'xi'), (189, 'sigma'), (190, 'alpha'), (191, 'xi'), (192, 'alpha'), (193, 'beta'), (194, 'gamma'), (195, 'omega'), (196, 'xi'), (197, 'alpha'), (198, 'xi'), (199, 'xi'), (200, 'xi'), (201, 'pi'), (202, 'xi'), (203, 'pi'), (204, 'xi'), (205, 'sigma'), (206, 'mu'), (207, 'delta'), (208, 'delta'), (209, 'gamma'), (210, 'gamma'), (211, 'gamma'), (212, 'pi'), (213, 'pi'), (214, 'xi'), (215, 'pi'), (216, 'mu'), (217, 'alpha'), (218, 'sigma'), (219, 'xi'), (220, 'mu'), (221, 'alpha'), (222, 'xi'), (223, 'delta'), (224, 'gamma'), (225, 'sigma'), (226, 'xi'), (227, 'delta'), (228, 'gamma'), (229, 'alpha'), (230, 'xi'), (231, 'alpha'), (232, 'xi'), (233, 'xi'), (234, 'alpha'), (235, 'beta'), (236, 'delta'), (237, 'xi'), (238, 'beta'), (239, 'alpha'), (240, 'beta'), (241, 'pi'), (242, 'xi'), (243, 'xi'), (244, 'alpha'), (245, 'alpha'), (246, 'delta'), (247, 'gamma'), (248, 'xi'), (249, 'mu'), (250, 'xi'), (251, 'alpha'), (252, 'alpha'), (253, 'alpha'), (254, 'xi'), (255, 'pi'), (256, 'xi'), (257, 'delta'), (258, 'alpha'), (259, 'alpha'), (260, 'gamma'), (261, 'alpha'), (262, 'alpha'), (263, 'alpha'), (264, 'gamma'), (265, 'gamma'), (266, 'xi'), (267, 'beta'), (268, 'omega'), (269, 'xi'), (270, 'delta'), (271, 'gamma'), (272, 'xi'), (273, 'alpha'), (274, 'omega'), (275, 'pi'), (276, 'delta'), (277, 'pi'), (278, 'xi'), (279, 'xi'), (280, 'pi'), (281, 'alpha'), (282, 'gamma'), (283, 'lambda'), (284, 'sigma'), (285, 'xi'), (286, 'pi'), (287, 'alpha'), (288, 'delta'), (289, 'alpha'), (290, 'alpha'), (291, 'xi'), (292, 'gamma'), (293, 'mu'), (294, 'alpha'), (295, 'xi'), (296, 'alpha'), (297, 'pi'), (298, 'mu'), (299, 'xi'), (300, 'pi'), (301, 'delta'), (302, 'xi'), (303, 'delta'), (304, 'alpha'), (305, 'alpha'), (306, 'alpha'), (307, 'omega'), (308, 'mu'), (309, 'alpha'), (310, 'gamma'), (311, 'xi'), (312, 'alpha'), (313, 'gamma'), (314, 'alpha'), (315, 'mu'), (316, 'delta'), (317, 'delta'), (318, 'xi'), (319, 'omega'), (320, 'xi'), (321, 'lambda'), (322, 'xi'), (323, 'xi'), (324, 'xi'), (325, 'xi'), (326, 'xi'), (327, 'pi'), (328, 'alpha'), (329, 'delta'), (330, 'delta'), (331, 'alpha'), (332, 'gamma'), (333, 'gamma'), (334, 'alpha'), (335, 'delta'), (336, 'omega'), (337, 'alpha'), (338, 'xi'), (339, 'gamma'), (340, 'mu'), (341, 'omega'), (342, 'delta'), (343, 'mu'), (344, 'pi'), (345, 'gamma'), (346, 'delta'), (347, 'xi'), (348, 'xi'), (349, 'xi'), (350, 'sigma'), (351, 'alpha'), (352, 'alpha'), (353, 'mu'), (354, 'alpha'), (355, 'xi'), (356, 'gamma'), (357, 'alpha'), (358, 'delta'), (359, 'sigma'), (360, 'sigma'), (361, 'gamma'), (362, 'beta'), (363, 'delta'), (364, 'xi'), (365, 'xi'), (366, 'pi'), (367, 'alpha'), (368, 'alpha'), (369, 'sigma'), (370, 'xi'), (371, 'delta'), (372, 'alpha'), (373, 'delta'), (374, 'alpha'), (375, 'xi'), (376, 'alpha'), (377, 'xi'), (378, 'mu'), (379, 'xi'), (380, 'alpha'), (381, 'xi'), (382, 'alpha'), (383, 'alpha'), (384, 'omega'), (385, 'xi'), (386, 'gamma'), (387, 'gamma'), (388, 'xi'), (389, 'xi'), (390, 'xi'), (391, 'xi'), (392, 'pi'), (393, 'alpha'), (394, 'xi'), (395, 'alpha'), (396, 'beta'), (397, 'mu'), (398, 'delta'), (399, 'alpha'), (400, 'alpha'), (401, 'xi'), (402, 'alpha'), (403, 'xi'), (404, 'mu'), (405, 'omega'), (406, 'mu'), (407, 'xi'), (408, 'mu'), (409, 'xi'), (410, 'delta'), (411, 'lambda'), (412, 'alpha'), (413, 'pi'), (414, 'alpha'), (415, 'alpha'), (416, 'xi'), (417, 'alpha'), (418, 'gamma'), (419, 'xi'), (420, 'gamma'), (421, 'xi'), (422, 'sigma'), (423, 'xi'), (424, 'mu'), (425, 'pi'), (426, 'xi'), (427, 'delta'), (428, 'lambda'), (429, 'mu'), (430, 'delta'), (431, 'xi'), (432, 'alpha'), (433, 'xi'), (434, 'xi'), (435, 'alpha'), (436, 'alpha'), (437, 'xi'), (438, 'gamma'), (439, 'delta'), (440, 'alpha'), (441, 'pi'), (442, 'pi'), (443, 'alpha'), (444, 'pi'), (445, 'xi'), (446, 'mu'), (447, 'mu'), (448, 'pi'), (449, 'xi'), (450, 'xi'), (451, 'delta'), (452, 'alpha'), (453, 'xi'), (454, 'mu'), (455, 'pi'), (456, 'omega'), (457, 'pi'), (458, 'alpha'), (459, 'xi'), (460, 'alpha'), (461, 'mu'), (462, 'mu'), (463, 'xi'), (464, 'mu'), (465, 'xi'), (466, 'alpha'), (467, 'beta'), (468, 'omega'), (469, 'mu'), (470, 'pi'), (471, 'mu'), (472, 'beta'), (473, 'xi'), (474, 'sigma'), (475, 'delta'), (476, 'delta'), (477, 'pi'), (478, 'mu'), (479, 'gamma'), (480, 'lambda'), (481, 'pi'), (482, 'alpha'), (483, 'mu'), (484, 'xi'), (485, 'gamma'), (486, 'xi'), (487, 'mu'), (488, 'xi'), (489, 'pi'), (490, 'alpha'), (491, 'delta'), (492, 'gamma'), (493, 'alpha'), (494, 'mu'), (495, 'gamma'), (496, 'sigma'), (497, 'pi'), (498, 'pi'), (499, 'alpha'), (500, 'xi'), (501, 'pi'), (502, 'delta'), (503, 'gamma'), (504, 'xi'), (505, 'pi'), (506, 'beta'), (507, 'alpha'), (508, 'delta'), (509, 'gamma'), (510, 'xi'), (511, 'alpha'), (512, 'alpha'), (513, 'xi'), (514, 'gamma'), (515, 'pi'), (516, 'alpha'), (517, 'gamma'), (518, 'lambda'), (519, 'delta')]\n[(0, 'xi'), (1, 'pi'), (2, 'gamma'), (3, 'delta'), (4, 'xi'), (5, 'alpha'), (6, 'alpha'), (7, 'sigma'), (8, 'mu'), (9, 'xi'), (10, 'pi'), (11, 'alpha'), (12, 'sigma'), (13, 'xi'), (14, 'pi'), (15, 'sigma'), (16, 'xi'), (17, 'xi'), (18, 'omega'), (19, 'alpha'), (20, 'lambda'), (21, 'alpha'), (22, 'beta'), (23, 'omega'), (24, 'xi'), (25, 'mu'), (26, 'alpha'), (27, 'alpha'), (28, 'mu'), (29, 'beta'), (30, 'xi'), (31, 'mu'), (32, 'mu'), (33, 'xi'), (34, 'mu'), (35, 'alpha'), (36, 'xi'), (37, 'xi'), (38, 'alpha'), (39, 'alpha'), (40, 'alpha'), (41, 'omega'), (42, 'pi'), (43, 'delta'), (44, 'xi'), (45, 'delta'), (46, 'alpha'), (47, 'alpha'), (48, 'delta'), (49, 'alpha'), (50, 'mu'), (51, 'xi'), (52, 'delta'), (53, 'xi'), (54, 'pi'), (55, 'alpha'), (56, 'mu'), (57, 'delta'), (58, 'gamma'), (59, 'alpha'), (60, 'alpha'), (61, 'xi'), (62, 'pi'), (63, 'pi'), (64, 'xi'), (65, 'pi'), (66, 'alpha'), (67, 'gamma'), (68, 'pi'), (69, 'xi'), (70, 'sigma'), (71, 'alpha'), (72, 'alpha'), (73, 'xi'), (74, 'xi'), (75, 'mu'), (76, 'gamma'), (77, 'alpha'), (78, 'gamma'), (79, 'xi'), (80, 'omega'), (81, 'alpha'), (82, 'pi'), (83, 'delta'), (84, 'pi'), (85, 'lambda'), (86, 'xi'), (87, 'xi'), (88, 'omega'), (89, 'lambda'), (90, 'mu'), (91, 'delta'), (92, 'alpha'), (93, 'alpha'), (94, 'delta'), (95, 'alpha'), (96, 'xi'), (97, 'xi'), (98, 'pi'), (99, 'pi'), (100, 'xi'), (101, 'mu'), (102, 'mu'), (103, 'beta'), (104, 'gamma'), (105, 'delta'), (106, 'mu'), (107, 'delta'), (108, 'delta'), (109, 'gamma'), (110, 'alpha'), (111, 'xi'), (112, 'beta'), (113, 'delta'), (114, 'mu'), (115, 'xi'), (116, 'mu'), (117, 'gamma'), (118, 'mu'), (119, 'xi'), (120, 'alpha'), (121, 'delta'), (122, 'delta'), (123, 'xi'), (124, 'alpha'), (125, 'alpha'), (126, 'lambda'), (127, 'xi'), (128, 'gamma'), (129, 'xi'), (130, 'alpha'), (131, 'alpha'), (132, 'mu'), (133, 'alpha'), (134, 'xi'), (135, 'alpha'), (136, 'gamma'), (137, 'xi'), (138, 'pi'), (139, 'beta'), (140, 'delta'), (141, 'pi'), (142, 'alpha'), (143, 'xi'), (144, 'gamma'), (145, 'gamma'), (146, 'xi'), (147, 'xi'), (148, 'xi'), (149, 'alpha'), (150, 'alpha'), (151, 'delta'), (152, 'xi'), (153, 'alpha'), (154, 'delta'), (155, 'pi'), (156, 'alpha'), (157, 'delta'), (158, 'delta'), (159, 'sigma'), (160, 'pi'), (161, 'mu'), (162, 'pi'), (163, 'alpha'), (164, 'alpha'), (165, 'alpha'), (166, 'alpha'), (167, 'alpha'), (168, 'xi'), (169, 'pi'), (170, 'delta'), (171, 'xi'), (172, 'delta'), (173, 'pi'), (174, 'gamma'), (175, 'alpha'), (176, 'alpha'), (177, 'pi'), (178, 'mu'), (179, 'delta'), (180, 'xi'), (181, 'alpha'), (182, 'gamma'), (183, 'xi'), (184, 'gamma'), (185, 'alpha'), (186, 'xi'), (187, 'gamma'), (188, 'xi'), (189, 'sigma'), (190, 'alpha'), (191, 'xi'), (192, 'alpha'), (193, 'xi'), (194, 'delta'), (195, 'omega'), (196, 'xi'), (197, 'omega'), (198, 'xi'), (199, 'xi'), (200, 'xi'), (201, 'pi'), (202, 'xi'), (203, 'pi'), (204, 'pi'), (205, 'alpha'), (206, 'mu'), (207, 'alpha'), (208, 'delta'), (209, 'gamma'), (210, 'gamma'), (211, 'delta'), (212, 'pi'), (213, 'pi'), (214, 'xi'), (215, 'pi'), (216, 'mu'), (217, 'alpha'), (218, 'alpha'), (219, 'xi'), (220, 'mu'), (221, 'alpha'), (222, 'xi'), (223, 'gamma'), (224, 'gamma'), (225, 'sigma'), (226, 'mu'), (227, 'delta'), (228, 'gamma'), (229, 'alpha'), (230, 'xi'), (231, 'alpha'), (232, 'xi'), (233, 'xi'), (234, 'alpha'), (235, 'lambda'), (236, 'delta'), (237, 'xi'), (238, 'beta'), (239, 'alpha'), (240, 'beta'), (241, 'pi'), (242, 'xi'), (243, 'xi'), (244, 'alpha'), (245, 'alpha'), (246, 'delta'), (247, 'pi'), (248, 'xi'), (249, 'omega'), (250, 'xi'), (251, 'alpha'), (252, 'alpha'), (253, 'alpha'), (254, 'xi'), (255, 'pi'), (256, 'xi'), (257, 'sigma'), (258, 'alpha'), (259, 'alpha'), (260, 'gamma'), (261, 'alpha'), (262, 'alpha'), (263, 'alpha'), (264, 'gamma'), (265, 'delta'), (266, 'xi'), (267, 'beta'), (268, 'omega'), (269, 'xi'), (270, 'delta'), (271, 'gamma'), (272, 'xi'), (273, 'alpha'), (274, 'omega'), (275, 'pi'), (276, 'delta'), (277, 'mu'), (278, 'xi'), (279, 'delta'), (280, 'pi'), (281, 'gamma'), (282, 'gamma'), (283, 'lambda'), (284, 'sigma'), (285, 'xi'), (286, 'pi'), (287, 'alpha'), (288, 'delta'), (289, 'alpha'), (290, 'sigma'), (291, 'xi'), (292, 'beta'), (293, 'mu'), (294, 'alpha'), (295, 'xi'), (296, 'alpha'), (297, 'pi'), (298, 'mu'), (299, 'xi'), (300, 'pi'), (301, 'delta'), (302, 'xi'), (303, 'delta'), (304, 'alpha'), (305, 'alpha'), (306, 'alpha'), (307, 'omega'), (308, 'lambda'), (309, 'alpha'), (310, 'xi'), (311, 'xi'), (312, 'alpha'), (313, 'gamma'), (314, 'alpha'), (315, 'mu'), (316, 'delta'), (317, 'xi'), (318, 'xi'), (319, 'omega'), (320, 'xi'), (321, 'mu'), (322, 'xi'), (323, 'xi'), (324, 'pi'), (325, 'delta'), (326, 'xi'), (327, 'pi'), (328, 'alpha'), (329, 'delta'), (330, 'delta'), (331, 'alpha'), (332, 'xi'), (333, 'gamma'), (334, 'alpha'), (335, 'lambda'), (336, 'omega'), (337, 'alpha'), (338, 'xi'), (339, 'gamma'), (340, 'mu'), (341, 'mu'), (342, 'delta'), (343, 'mu'), (344, 'pi'), (345, 'gamma'), (346, 'delta'), (347, 'gamma'), (348, 'xi'), (349, 'xi'), (350, 'delta'), (351, 'sigma'), (352, 'alpha'), (353, 'mu'), (354, 'alpha'), (355, 'gamma'), (356, 'xi'), (357, 'alpha'), (358, 'alpha'), (359, 'alpha'), (360, 'gamma'), (361, 'xi'), (362, 'pi'), (363, 'delta'), (364, 'gamma'), (365, 'beta'), (366, 'gamma'), (367, 'alpha'), (368, 'alpha'), (369, 'sigma'), (370, 'xi'), (371, 'delta'), (372, 'alpha'), (373, 'delta'), (374, 'alpha'), (375, 'gamma'), (376, 'alpha'), (377, 'xi'), (378, 'mu'), (379, 'mu'), (380, 'alpha'), (381, 'xi'), (382, 'alpha'), (383, 'alpha'), (384, 'alpha'), (385, 'xi'), (386, 'gamma'), (387, 'gamma'), (388, 'xi'), (389, 'lambda'), (390, 'xi'), (391, 'xi'), (392, 'pi'), (393, 'alpha'), (394, 'delta'), (395, 'alpha'), (396, 'beta'), (397, 'mu'), (398, 'beta'), (399, 'alpha'), (400, 'alpha'), (401, 'xi'), (402, 'lambda'), (403, 'xi'), (404, 'mu'), (405, 'omega'), (406, 'mu'), (407, 'xi'), (408, 'mu'), (409, 'gamma'), (410, 'delta'), (411, 'lambda'), (412, 'alpha'), (413, 'xi'), (414, 'alpha'), (415, 'alpha'), (416, 'xi'), (417, 'alpha'), (418, 'gamma'), (419, 'delta'), (420, 'gamma'), (421, 'xi'), (422, 'sigma'), (423, 'xi'), (424, 'gamma'), (425, 'pi'), (426, 'xi'), (427, 'delta'), (428, 'gamma'), (429, 'mu'), (430, 'xi'), (431, 'gamma'), (432, 'alpha'), (433, 'xi'), (434, 'xi'), (435, 'alpha'), (436, 'alpha'), (437, 'xi'), (438, 'xi'), (439, 'delta'), (440, 'alpha'), (441, 'pi'), (442, 'pi'), (443, 'alpha'), (444, 'pi'), (445, 'xi'), (446, 'mu'), (447, 'mu'), (448, 'pi'), (449, 'gamma'), (450, 'xi'), (451, 'xi'), (452, 'alpha'), (453, 'xi'), (454, 'mu'), (455, 'pi'), (456, 'alpha'), (457, 'pi'), (458, 'alpha'), (459, 'xi'), (460, 'alpha'), (461, 'mu'), (462, 'mu'), (463, 'xi'), (464, 'mu'), (465, 'gamma'), (466, 'alpha'), (467, 'beta'), (468, 'omega'), (469, 'mu'), (470, 'xi'), (471, 'mu'), (472, 'beta'), (473, 'xi'), (474, 'sigma'), (475, 'xi'), (476, 'delta'), (477, 'pi'), (478, 'lambda'), (479, 'lambda'), (480, 'lambda'), (481, 'pi'), (482, 'alpha'), (483, 'alpha'), (484, 'xi'), (485, 'gamma'), (486, 'xi'), (487, 'mu'), (488, 'xi'), (489, 'pi'), (490, 'alpha'), (491, 'delta'), (492, 'gamma'), (493, 'alpha'), (494, 'mu'), (495, 'alpha'), (496, 'sigma'), (497, 'pi'), (498, 'pi'), (499, 'alpha'), (500, 'xi'), (501, 'pi'), (502, 'xi'), (503, 'gamma'), (504, 'xi'), (505, 'pi'), (506, 'beta'), (507, 'alpha'), (508, 'delta'), (509, 'mu'), (510, 'xi'), (511, 'alpha'), (512, 'alpha'), (513, 'xi'), (514, 'gamma'), (515, 'pi'), (516, 'alpha'), (517, 'xi'), (518, 'lambda'), (519, 'delta')]\nMissed: 113 out of 520\n"
     ],
     "output_type": "stream"
    }
   ],
   "source": [
    "# Base-DT-DS2\n",
    "x_train = train_data_2[ :, :-1]\n",
    "y_train = train_data_2[ :, -1]\n",
    "\n",
    "base_t.fit(x_train, y_train)\n",
    "\n",
    "x_test = labeled_test_data_2[ :, :-1]\n",
    "y_test = labeled_test_data_2[ :, -1]\n",
    "\n",
    "prediction = base_t.predict(x_test)\n",
    "print([(entry, data_2[prediction[entry]]) for entry in range(prediction.size)])\n",
    "print([(entry, data_2[y_test[entry]]) for entry in range(y_test.size)])\n",
    "prediction = base_t.predict(x_test)\n",
    "print(f'Missed: {(y_test != prediction).sum()} out of {len(y_test)}')\n",
    "\n",
    "with open('Base-DT-DS2.csv', 'w', newline='') as csvfile:\n",
    "    writer = csv.writer(csvfile)\n",
    "    for entry in range(prediction.size):\n",
    "        writer.writerow([entry, int(prediction[entry])])"
   ]
  },
  {
   "cell_type": "markdown",
   "source": [
    "# Optimized Decision Trees\n",
    "### Parameters\n",
    "- splitting criterion: gini / entropy\n",
    "- maximum depth: 10 / no max\n",
    "- min # of samples to split an internal node: range(1/10^100 - 1/10^110)\n",
    "- min impurity decrease: range(1/10^100 - 1/10^110)\n",
    "- class weight: none / balanced\n",
    "### Brute Force Optimization Process\n",
    "- Trains new tree with different h-parameter to determine best performance\n",
    "    - Loops through a variety of parameters, tracking the best case of predictions misses (best)\n",
    "- Findings\n",
    "    - Entropy as a split criterion is the best h-parameter\n",
    "    - No max depth for the tree is the best h-parameter\n",
    "    - Balanced class weights is the best h-parameter\n",
    "    - Min Samples Split works best at very small numbers\n",
    "        - testing with range down to 1/100000\n",
    "    - Min Impurity Decrease works best at very small numbers\n",
    "        - testing with range down to 1/100000"
   ],
   "metadata": {
    "collapsed": false,
    "pycharm": {
     "name": "#%% md\n"
    }
   }
  },
  {
   "cell_type": "code",
   "execution_count": 12,
   "metadata": {
    "pycharm": {
     "is_executing": false,
     "name": "#%%\n"
    }
   },
   "outputs": [
    {
     "name": "stdout",
     "text": [
      "Splitting Criterion: Entropy\nMax Depth: None\nMin # Samples: 1e-100\nMin Impurity Decrease:1e-100\nClass Weights: Balanced\n132\n",
      "Splitting Criterion: Entropy\nMax Depth: None\nMin # Samples: 1e-100\nMin Impurity Decrease:1e-106\nClass Weights: Balanced\n131\nSplitting Criterion: Entropy\nMax Depth: None\nMin # Samples: 1e-100\nMin Impurity Decrease:1e-107\nClass Weights: Balanced\n130\n",
      "Splitting Criterion: Entropy\nMax Depth: None\nMin # Samples: 1e-101\nMin Impurity Decrease:1e-106\nClass Weights: Balanced\n129\n",
      "Splitting Criterion: Entropy\nMax Depth: None\nMin # Samples: 1e-107\nMin Impurity Decrease:1e-104\nClass Weights: Balanced\n127\n",
      "Missed: 38 out of 80\n"
     ],
     "output_type": "stream"
    }
   ],
   "source": [
    "# Tree Optimization DS1\n",
    "x_train = train_data_1[ :, :-1]\n",
    "y_train = train_data_1[ :, -1]\n",
    "\n",
    "x_val = val_data_1[ :, :-1]\n",
    "y_val = val_data_1[ :, -1]\n",
    "\n",
    "x_test = labeled_test_data_1[ :, :-1]\n",
    "y_test = labeled_test_data_1[ :, -1]\n",
    "\n",
    "best = 239\n",
    "\n",
    "def tree_score(sample, impurity):\n",
    "    best_tree = tree.DecisionTreeClassifier(criterion=\"entropy\", # Entropy is the best split criterion\n",
    "                                       max_depth=None, # No max depth is best h-parameter\n",
    "                                       min_samples_split=sample, # Small numbers here for best predictions\n",
    "                                       min_impurity_decrease=impurity, # Small numbers here for best predictions\n",
    "                                       class_weight=\"balanced\") # Balanced class weights is the best h-paramter\n",
    "    best_tree.fit(x_train, y_train)\n",
    "    pred = best_tree.predict(x_val)\n",
    "    return (y_val != pred).sum()\n",
    "\n",
    "tuned_samples = 0\n",
    "tuned_impurities = 0\n",
    "\n",
    "for samples in [1/(10**x) for x in range(100, 110, 1)]: # Min Number of Samples\n",
    "    for impurities in [1/(10**y) for y in range(100, 110, 1)]: # Min Impurity \n",
    "        # Decrease\n",
    "            missed = tree_score(samples, impurities)\n",
    "            if missed < best:\n",
    "                print(f'Splitting Criterion: Entropy\\n'\n",
    "                      f'Max Depth: None\\n'\n",
    "                      f'Min # Samples: {samples}\\n'\n",
    "                      f'Min Impurity Decrease:{impurities}\\n'\n",
    "                      f'Class Weights: Balanced')\n",
    "                tuned_samples = samples\n",
    "                tuned_impurities = impurities\n",
    "                best = missed\n",
    "                print(missed)\n",
    "            \n",
    "tuned = tree.DecisionTreeClassifier(criterion=\"entropy\", # Entropy is the best split criterion\n",
    "                                       max_depth=None, # No max depth is best h-parameter\n",
    "                                       min_samples_split=tuned_samples, # Small numbers here for best predictions\n",
    "                                       min_impurity_decrease=tuned_impurities, # Small numbers here for best predictions\n",
    "                                       class_weight=\"balanced\")\n",
    "\n",
    "prediction = tuned.fit(x_train, y_train).predict(x_test)\n",
    "print(f'Missed: {(y_test != prediction).sum()} out of {len(y_test)}')\n",
    "with open('Best-DT-DS1.csv', 'w', newline='') as csvfile:\n",
    "    writer = csv.writer(csvfile)\n",
    "    for entry in range(prediction.size):\n",
    "        writer.writerow([entry, int(prediction[entry])])"
   ]
  },
  {
   "cell_type": "code",
   "execution_count": 13,
   "outputs": [
    {
     "name": "stdout",
     "text": [
      "Splitting Criterion: Entropy\nMax Depth: None\nMin # Samples: 1e-100\nMin Impurity Decrease:1e-100\nClass Weights: Balanced\n380\n",
      "Splitting Criterion: Entropy\nMax Depth: None\nMin # Samples: 1e-100\nMin Impurity Decrease:1e-101\nClass Weights: Balanced\n379\n",
      "Splitting Criterion: Entropy\nMax Depth: None\nMin # Samples: 1e-100\nMin Impurity Decrease:1e-102\nClass Weights: Balanced\n377\n",
      "Splitting Criterion: Entropy\nMax Depth: None\nMin # Samples: 1e-100\nMin Impurity Decrease:1e-103\nClass Weights: Balanced\n364\n",
      "Splitting Criterion: Entropy\nMax Depth: None\nMin # Samples: 1e-100\nMin Impurity Decrease:1e-106\nClass Weights: Balanced\n356\n",
      "Splitting Criterion: Entropy\nMax Depth: None\nMin # Samples: 1e-108\nMin Impurity Decrease:1e-101\nClass Weights: Balanced\n353\n",
      "Missed: 120 out of 520\n"
     ],
     "output_type": "stream"
    }
   ],
   "source": [
    "# Tree Optimization DS2\n",
    "x_train = train_data_2[ :, :-1]\n",
    "y_train = train_data_2[ :, -1]\n",
    "\n",
    "x_val = val_data_2[ :, :-1]\n",
    "y_val = val_data_2[ :, -1]\n",
    "\n",
    "x_test = labeled_test_data_2[ :, :-1]\n",
    "y_test = labeled_test_data_2[ :, -1]\n",
    "\n",
    "best = 1560\n",
    "\n",
    "tuned_samples = 0\n",
    "tuned_impurities = 0\n",
    "\n",
    "for samples in [1/(10**x) for x in range(100, 110, 1)]: # Min Number of Samples\n",
    "    for impurities in [1/(10**y) for y in range(100, 110, 1)]: # Min Impurity \n",
    "        # Decrease\n",
    "            missed = tree_score(samples, impurities)\n",
    "            if missed < best:\n",
    "                print(f'Splitting Criterion: Entropy\\n'\n",
    "                      f'Max Depth: None\\n'\n",
    "                      f'Min # Samples: {samples}\\n'\n",
    "                      f'Min Impurity Decrease:{impurities}\\n'\n",
    "                      f'Class Weights: Balanced')\n",
    "                tuned_samples = samples\n",
    "                tuned_impurities = impurities\n",
    "                best = missed\n",
    "                print(missed)\n",
    "\n",
    "tuned = tree.DecisionTreeClassifier(criterion=\"entropy\", # Entropy is the best split criterion\n",
    "                                       max_depth=None, # No max depth is best h-parameter\n",
    "                                       min_samples_split=tuned_samples, # Small numbers here for best predictions\n",
    "                                       min_impurity_decrease=tuned_impurities, # Small numbers here for best predictions\n",
    "                                       class_weight=\"balanced\")\n",
    "\n",
    "prediction = tuned.fit(x_train, y_train).predict(x_test)\n",
    "print(f'Missed: {(y_test != prediction).sum()} out of {len(y_test)}')\n",
    "with open('Best-DT-DS2.csv', 'w', newline='') as csvfile:\n",
    "    writer = csv.writer(csvfile)\n",
    "    for entry in range(prediction.size):\n",
    "        writer.writerow([entry, int(prediction[entry])])"
   ],
   "metadata": {
    "collapsed": false,
    "pycharm": {
     "name": "#%%\n",
     "is_executing": false
    }
   }
  },
  {
   "cell_type": "markdown",
   "source": [
    "# Perceptrons"
   ],
   "metadata": {
    "collapsed": false,
    "pycharm": {
     "name": "#%% md\n"
    }
   }
  },
  {
   "cell_type": "code",
   "source": [
    "#PER-DS1\n",
    "x_train = train_data_1[ :, :-1]\n",
    "y_train = train_data_1[ :, -1]\n",
    "\n",
    "per.fit(x_train, y_train)\n",
    "\n",
    "x_test = labeled_test_data_1[ :, :-1]\n",
    "y_test = labeled_test_data_1[ :, -1]\n",
    "\n",
    "prediction = per.predict(x_test)\n",
    "print([(entry, data_1[prediction[entry]]) for entry in range(prediction.size)])\n",
    "print([(entry, data_1[y_test[entry]]) for entry in range(y_test.size)])\n",
    "print(f'Missed: {(y_test != prediction).sum()} out of {len(y_test)}')\n",
    "\n",
    "with open('PER-DS1.csv', 'w', newline='') as csvfile:\n",
    "    writer = csv.writer(csvfile)\n",
    "    for entry in range(prediction.size):\n",
    "        writer.writerow([entry, int(prediction[entry])])"
   ],
   "metadata": {
    "collapsed": false,
    "pycharm": {
     "name": "#%%\n",
     "is_executing": false
    }
   },
   "execution_count": 14,
   "outputs": [
    {
     "name": "stdout",
     "text": [
      "[(0, 'E'), (1, 'N'), (2, 'R'), (3, 'C'), (4, 'S'), (5, 'R'), (6, 'L'), (7, 'X'), (8, 'W'), (9, 'U'), (10, 'L'), (11, 'J'), (12, 'L'), (13, 'F'), (14, 'E'), (15, 'F'), (16, 'A'), (17, 'I'), (18, 'C'), (19, 'A'), (20, 'Q'), (21, 'A'), (22, 'J'), (23, 'R'), (24, 'J'), (25, 'B'), (26, 'V'), (27, 'I'), (28, 'Y'), (29, 'A'), (30, 'D'), (31, 'R'), (32, 'K'), (33, 'Q'), (34, 'K'), (35, 'R'), (36, 'Q'), (37, 'T'), (38, 'P'), (39, 'P'), (40, 'Q'), (41, 'L'), (42, 'N'), (43, 'B'), (44, 'N'), (45, 'H'), (46, 'K'), (47, 'O'), (48, 'Y'), (49, 'A'), (50, 'H'), (51, 'D'), (52, 'W'), (53, 'U'), (54, 'D'), (55, 'O'), (56, 'Z'), (57, 'J'), (58, 'P'), (59, 'O'), (60, 'M'), (61, 'C'), (62, 'L'), (63, 'H'), (64, 'R'), (65, 'G'), (66, 'G'), (67, 'U'), (68, 'M'), (69, 'N'), (70, 'Y'), (71, 'W'), (72, 'V'), (73, 'I'), (74, 'V'), (75, 'S'), (76, 'P'), (77, 'R'), (78, 'G'), (79, 'F')]\n[(0, 'E'), (1, 'N'), (2, 'H'), (3, 'C'), (4, 'S'), (5, 'R'), (6, 'L'), (7, 'X'), (8, 'W'), (9, 'U'), (10, 'C'), (11, 'J'), (12, 'L'), (13, 'T'), (14, 'E'), (15, 'F'), (16, 'G'), (17, 'I'), (18, 'C'), (19, 'A'), (20, 'Q'), (21, 'A'), (22, 'Z'), (23, 'R'), (24, 'J'), (25, 'B'), (26, 'V'), (27, 'I'), (28, 'Y'), (29, 'M'), (30, 'D'), (31, 'X'), (32, 'R'), (33, 'Q'), (34, 'K'), (35, 'K'), (36, 'S'), (37, 'J'), (38, 'P'), (39, 'F'), (40, 'Q'), (41, 'L'), (42, 'N'), (43, 'B'), (44, 'N'), (45, 'K'), (46, 'Z'), (47, 'O'), (48, 'Y'), (49, 'A'), (50, 'H'), (51, 'D'), (52, 'W'), (53, 'U'), (54, 'D'), (55, 'O'), (56, 'Z'), (57, 'J'), (58, 'P'), (59, 'O'), (60, 'H'), (61, 'C'), (62, 'L'), (63, 'M'), (64, 'A'), (65, 'G'), (66, 'G'), (67, 'U'), (68, 'M'), (69, 'N'), (70, 'Y'), (71, 'W'), (72, 'V'), (73, 'I'), (74, 'V'), (75, 'S'), (76, 'P'), (77, 'R'), (78, 'G'), (79, 'T')]\nMissed: 18 out of 80\n"
     ],
     "output_type": "stream"
    }
   ]
  },
  {
   "cell_type": "code",
   "execution_count": 15,
   "outputs": [
    {
     "name": "stdout",
     "text": [
      "[(0, 'J'), (1, 'A'), (2, 'E'), (3, 'F'), (4, 'J'), (5, 'B'), (6, 'B'), (7, 'D'), (8, 'I'), (9, 'J'), (10, 'A'), (11, 'B'), (12, 'D'), (13, 'J'), (14, 'J'), (15, 'D'), (16, 'J'), (17, 'J'), (18, 'H'), (19, 'B'), (20, 'G'), (21, 'B'), (22, 'J'), (23, 'H'), (24, 'J'), (25, 'B'), (26, 'B'), (27, 'B'), (28, 'I'), (29, 'I'), (30, 'J'), (31, 'I'), (32, 'A'), (33, 'J'), (34, 'I'), (35, 'B'), (36, 'J'), (37, 'J'), (38, 'B'), (39, 'B'), (40, 'B'), (41, 'H'), (42, 'A'), (43, 'F'), (44, 'J'), (45, 'J'), (46, 'B'), (47, 'B'), (48, 'F'), (49, 'B'), (50, 'J'), (51, 'A'), (52, 'F'), (53, 'J'), (54, 'A'), (55, 'A'), (56, 'I'), (57, 'F'), (58, 'E'), (59, 'B'), (60, 'B'), (61, 'J'), (62, 'A'), (63, 'A'), (64, 'J'), (65, 'A'), (66, 'B'), (67, 'E'), (68, 'A'), (69, 'B'), (70, 'D'), (71, 'B'), (72, 'B'), (73, 'J'), (74, 'F'), (75, 'I'), (76, 'J'), (77, 'B'), (78, 'A'), (79, 'J'), (80, 'H'), (81, 'B'), (82, 'A'), (83, 'F'), (84, 'A'), (85, 'G'), (86, 'J'), (87, 'J'), (88, 'H'), (89, 'B'), (90, 'I'), (91, 'F'), (92, 'B'), (93, 'B'), (94, 'F'), (95, 'B'), (96, 'J'), (97, 'J'), (98, 'A'), (99, 'A'), (100, 'E'), (101, 'I'), (102, 'I'), (103, 'C'), (104, 'E'), (105, 'F'), (106, 'I'), (107, 'F'), (108, 'F'), (109, 'E'), (110, 'B'), (111, 'J'), (112, 'F'), (113, 'F'), (114, 'I'), (115, 'J'), (116, 'I'), (117, 'B'), (118, 'I'), (119, 'J'), (120, 'B'), (121, 'F'), (122, 'F'), (123, 'J'), (124, 'B'), (125, 'B'), (126, 'C'), (127, 'E'), (128, 'E'), (129, 'J'), (130, 'B'), (131, 'B'), (132, 'I'), (133, 'B'), (134, 'J'), (135, 'B'), (136, 'E'), (137, 'J'), (138, 'A'), (139, 'I'), (140, 'F'), (141, 'A'), (142, 'B'), (143, 'E'), (144, 'E'), (145, 'A'), (146, 'J'), (147, 'J'), (148, 'F'), (149, 'B'), (150, 'B'), (151, 'F'), (152, 'J'), (153, 'B'), (154, 'F'), (155, 'A'), (156, 'B'), (157, 'F'), (158, 'F'), (159, 'D'), (160, 'A'), (161, 'I'), (162, 'A'), (163, 'B'), (164, 'B'), (165, 'B'), (166, 'B'), (167, 'B'), (168, 'J'), (169, 'A'), (170, 'F'), (171, 'J'), (172, 'F'), (173, 'A'), (174, 'E'), (175, 'B'), (176, 'B'), (177, 'A'), (178, 'I'), (179, 'F'), (180, 'E'), (181, 'B'), (182, 'F'), (183, 'J'), (184, 'E'), (185, 'B'), (186, 'J'), (187, 'E'), (188, 'A'), (189, 'D'), (190, 'B'), (191, 'J'), (192, 'B'), (193, 'J'), (194, 'F'), (195, 'H'), (196, 'J'), (197, 'H'), (198, 'J'), (199, 'J'), (200, 'F'), (201, 'A'), (202, 'J'), (203, 'A'), (204, 'J'), (205, 'B'), (206, 'I'), (207, 'B'), (208, 'F'), (209, 'A'), (210, 'E'), (211, 'E'), (212, 'A'), (213, 'A'), (214, 'J'), (215, 'A'), (216, 'I'), (217, 'B'), (218, 'B'), (219, 'J'), (220, 'I'), (221, 'B'), (222, 'J'), (223, 'E'), (224, 'F'), (225, 'D'), (226, 'J'), (227, 'F'), (228, 'I'), (229, 'B'), (230, 'J'), (231, 'B'), (232, 'J'), (233, 'J'), (234, 'B'), (235, 'B'), (236, 'F'), (237, 'J'), (238, 'A'), (239, 'B'), (240, 'C'), (241, 'A'), (242, 'J'), (243, 'J'), (244, 'B'), (245, 'B'), (246, 'F'), (247, 'A'), (248, 'J'), (249, 'H'), (250, 'J'), (251, 'B'), (252, 'B'), (253, 'B'), (254, 'J'), (255, 'A'), (256, 'J'), (257, 'E'), (258, 'B'), (259, 'B'), (260, 'E'), (261, 'B'), (262, 'B'), (263, 'B'), (264, 'E'), (265, 'F'), (266, 'J'), (267, 'C'), (268, 'H'), (269, 'I'), (270, 'F'), (271, 'A'), (272, 'E'), (273, 'B'), (274, 'H'), (275, 'A'), (276, 'F'), (277, 'I'), (278, 'J'), (279, 'F'), (280, 'A'), (281, 'A'), (282, 'E'), (283, 'G'), (284, 'D'), (285, 'J'), (286, 'A'), (287, 'B'), (288, 'F'), (289, 'B'), (290, 'D'), (291, 'J'), (292, 'I'), (293, 'I'), (294, 'B'), (295, 'J'), (296, 'B'), (297, 'A'), (298, 'A'), (299, 'F'), (300, 'A'), (301, 'F'), (302, 'J'), (303, 'F'), (304, 'B'), (305, 'B'), (306, 'B'), (307, 'H'), (308, 'B'), (309, 'D'), (310, 'J'), (311, 'J'), (312, 'B'), (313, 'E'), (314, 'B'), (315, 'I'), (316, 'F'), (317, 'J'), (318, 'J'), (319, 'H'), (320, 'J'), (321, 'B'), (322, 'J'), (323, 'A'), (324, 'A'), (325, 'J'), (326, 'J'), (327, 'A'), (328, 'B'), (329, 'J'), (330, 'F'), (331, 'B'), (332, 'J'), (333, 'E'), (334, 'B'), (335, 'A'), (336, 'H'), (337, 'B'), (338, 'J'), (339, 'E'), (340, 'I'), (341, 'I'), (342, 'F'), (343, 'I'), (344, 'A'), (345, 'F'), (346, 'F'), (347, 'J'), (348, 'A'), (349, 'J'), (350, 'D'), (351, 'D'), (352, 'I'), (353, 'I'), (354, 'B'), (355, 'J'), (356, 'F'), (357, 'B'), (358, 'B'), (359, 'B'), (360, 'A'), (361, 'J'), (362, 'A'), (363, 'C'), (364, 'J'), (365, 'C'), (366, 'A'), (367, 'B'), (368, 'B'), (369, 'D'), (370, 'J'), (371, 'F'), (372, 'B'), (373, 'F'), (374, 'B'), (375, 'J'), (376, 'B'), (377, 'J'), (378, 'I'), (379, 'I'), (380, 'B'), (381, 'J'), (382, 'B'), (383, 'B'), (384, 'B'), (385, 'J'), (386, 'A'), (387, 'E'), (388, 'J'), (389, 'B'), (390, 'J'), (391, 'J'), (392, 'A'), (393, 'B'), (394, 'F'), (395, 'B'), (396, 'C'), (397, 'I'), (398, 'C'), (399, 'B'), (400, 'B'), (401, 'J'), (402, 'A'), (403, 'J'), (404, 'A'), (405, 'H'), (406, 'I'), (407, 'J'), (408, 'A'), (409, 'A'), (410, 'F'), (411, 'G'), (412, 'B'), (413, 'G'), (414, 'B'), (415, 'B'), (416, 'J'), (417, 'B'), (418, 'E'), (419, 'F'), (420, 'J'), (421, 'J'), (422, 'D'), (423, 'J'), (424, 'I'), (425, 'A'), (426, 'J'), (427, 'F'), (428, 'E'), (429, 'I'), (430, 'A'), (431, 'A'), (432, 'B'), (433, 'J'), (434, 'J'), (435, 'B'), (436, 'B'), (437, 'J'), (438, 'J'), (439, 'F'), (440, 'B'), (441, 'A'), (442, 'A'), (443, 'B'), (444, 'A'), (445, 'A'), (446, 'I'), (447, 'I'), (448, 'A'), (449, 'F'), (450, 'J'), (451, 'E'), (452, 'B'), (453, 'C'), (454, 'I'), (455, 'A'), (456, 'B'), (457, 'A'), (458, 'B'), (459, 'J'), (460, 'B'), (461, 'I'), (462, 'I'), (463, 'J'), (464, 'I'), (465, 'E'), (466, 'B'), (467, 'I'), (468, 'H'), (469, 'I'), (470, 'J'), (471, 'I'), (472, 'C'), (473, 'J'), (474, 'D'), (475, 'J'), (476, 'F'), (477, 'A'), (478, 'I'), (479, 'B'), (480, 'B'), (481, 'I'), (482, 'B'), (483, 'A'), (484, 'J'), (485, 'E'), (486, 'J'), (487, 'I'), (488, 'J'), (489, 'A'), (490, 'B'), (491, 'F'), (492, 'E'), (493, 'B'), (494, 'I'), (495, 'B'), (496, 'D'), (497, 'A'), (498, 'A'), (499, 'B'), (500, 'J'), (501, 'A'), (502, 'F'), (503, 'E'), (504, 'J'), (505, 'A'), (506, 'C'), (507, 'B'), (508, 'F'), (509, 'I'), (510, 'J'), (511, 'B'), (512, 'B'), (513, 'J'), (514, 'E'), (515, 'A'), (516, 'B'), (517, 'J'), (518, 'G'), (519, 'F')]\n[(0, 'J'), (1, 'A'), (2, 'E'), (3, 'F'), (4, 'J'), (5, 'B'), (6, 'B'), (7, 'D'), (8, 'I'), (9, 'J'), (10, 'A'), (11, 'B'), (12, 'D'), (13, 'J'), (14, 'A'), (15, 'D'), (16, 'J'), (17, 'J'), (18, 'H'), (19, 'B'), (20, 'G'), (21, 'B'), (22, 'C'), (23, 'H'), (24, 'J'), (25, 'I'), (26, 'B'), (27, 'B'), (28, 'I'), (29, 'C'), (30, 'J'), (31, 'I'), (32, 'I'), (33, 'J'), (34, 'I'), (35, 'B'), (36, 'J'), (37, 'J'), (38, 'B'), (39, 'B'), (40, 'B'), (41, 'H'), (42, 'A'), (43, 'F'), (44, 'J'), (45, 'F'), (46, 'B'), (47, 'B'), (48, 'F'), (49, 'B'), (50, 'I'), (51, 'J'), (52, 'F'), (53, 'J'), (54, 'A'), (55, 'B'), (56, 'I'), (57, 'F'), (58, 'E'), (59, 'B'), (60, 'B'), (61, 'J'), (62, 'A'), (63, 'A'), (64, 'J'), (65, 'A'), (66, 'B'), (67, 'E'), (68, 'A'), (69, 'J'), (70, 'D'), (71, 'B'), (72, 'B'), (73, 'J'), (74, 'J'), (75, 'I'), (76, 'E'), (77, 'B'), (78, 'E'), (79, 'J'), (80, 'H'), (81, 'B'), (82, 'A'), (83, 'F'), (84, 'A'), (85, 'G'), (86, 'J'), (87, 'J'), (88, 'H'), (89, 'G'), (90, 'I'), (91, 'F'), (92, 'B'), (93, 'B'), (94, 'F'), (95, 'B'), (96, 'J'), (97, 'J'), (98, 'A'), (99, 'A'), (100, 'J'), (101, 'I'), (102, 'I'), (103, 'C'), (104, 'E'), (105, 'F'), (106, 'I'), (107, 'F'), (108, 'F'), (109, 'E'), (110, 'B'), (111, 'J'), (112, 'C'), (113, 'F'), (114, 'I'), (115, 'J'), (116, 'I'), (117, 'E'), (118, 'I'), (119, 'J'), (120, 'B'), (121, 'F'), (122, 'F'), (123, 'J'), (124, 'B'), (125, 'B'), (126, 'G'), (127, 'J'), (128, 'E'), (129, 'J'), (130, 'B'), (131, 'B'), (132, 'I'), (133, 'B'), (134, 'J'), (135, 'B'), (136, 'E'), (137, 'J'), (138, 'A'), (139, 'C'), (140, 'F'), (141, 'A'), (142, 'B'), (143, 'J'), (144, 'E'), (145, 'E'), (146, 'J'), (147, 'J'), (148, 'J'), (149, 'B'), (150, 'B'), (151, 'F'), (152, 'J'), (153, 'B'), (154, 'F'), (155, 'A'), (156, 'B'), (157, 'F'), (158, 'F'), (159, 'D'), (160, 'A'), (161, 'I'), (162, 'A'), (163, 'B'), (164, 'B'), (165, 'B'), (166, 'B'), (167, 'B'), (168, 'J'), (169, 'A'), (170, 'F'), (171, 'J'), (172, 'F'), (173, 'A'), (174, 'E'), (175, 'B'), (176, 'B'), (177, 'A'), (178, 'I'), (179, 'F'), (180, 'J'), (181, 'B'), (182, 'E'), (183, 'J'), (184, 'E'), (185, 'B'), (186, 'J'), (187, 'E'), (188, 'J'), (189, 'D'), (190, 'B'), (191, 'J'), (192, 'B'), (193, 'J'), (194, 'F'), (195, 'H'), (196, 'J'), (197, 'H'), (198, 'J'), (199, 'J'), (200, 'J'), (201, 'A'), (202, 'J'), (203, 'A'), (204, 'A'), (205, 'B'), (206, 'I'), (207, 'B'), (208, 'F'), (209, 'E'), (210, 'E'), (211, 'F'), (212, 'A'), (213, 'A'), (214, 'J'), (215, 'A'), (216, 'I'), (217, 'B'), (218, 'B'), (219, 'J'), (220, 'I'), (221, 'B'), (222, 'J'), (223, 'E'), (224, 'E'), (225, 'D'), (226, 'I'), (227, 'F'), (228, 'E'), (229, 'B'), (230, 'J'), (231, 'B'), (232, 'J'), (233, 'J'), (234, 'B'), (235, 'G'), (236, 'F'), (237, 'J'), (238, 'C'), (239, 'B'), (240, 'C'), (241, 'A'), (242, 'J'), (243, 'J'), (244, 'B'), (245, 'B'), (246, 'F'), (247, 'A'), (248, 'J'), (249, 'H'), (250, 'J'), (251, 'B'), (252, 'B'), (253, 'B'), (254, 'J'), (255, 'A'), (256, 'J'), (257, 'D'), (258, 'B'), (259, 'B'), (260, 'E'), (261, 'B'), (262, 'B'), (263, 'B'), (264, 'E'), (265, 'F'), (266, 'J'), (267, 'C'), (268, 'H'), (269, 'J'), (270, 'F'), (271, 'E'), (272, 'J'), (273, 'B'), (274, 'H'), (275, 'A'), (276, 'F'), (277, 'I'), (278, 'J'), (279, 'F'), (280, 'A'), (281, 'E'), (282, 'E'), (283, 'G'), (284, 'D'), (285, 'J'), (286, 'A'), (287, 'B'), (288, 'F'), (289, 'B'), (290, 'D'), (291, 'J'), (292, 'C'), (293, 'I'), (294, 'B'), (295, 'J'), (296, 'B'), (297, 'A'), (298, 'I'), (299, 'J'), (300, 'A'), (301, 'F'), (302, 'J'), (303, 'F'), (304, 'B'), (305, 'B'), (306, 'B'), (307, 'H'), (308, 'G'), (309, 'B'), (310, 'J'), (311, 'J'), (312, 'B'), (313, 'E'), (314, 'B'), (315, 'I'), (316, 'F'), (317, 'J'), (318, 'J'), (319, 'H'), (320, 'J'), (321, 'I'), (322, 'J'), (323, 'J'), (324, 'A'), (325, 'F'), (326, 'J'), (327, 'A'), (328, 'B'), (329, 'F'), (330, 'F'), (331, 'B'), (332, 'J'), (333, 'E'), (334, 'B'), (335, 'G'), (336, 'H'), (337, 'B'), (338, 'J'), (339, 'E'), (340, 'I'), (341, 'I'), (342, 'F'), (343, 'I'), (344, 'A'), (345, 'E'), (346, 'F'), (347, 'E'), (348, 'J'), (349, 'J'), (350, 'F'), (351, 'D'), (352, 'B'), (353, 'I'), (354, 'B'), (355, 'E'), (356, 'J'), (357, 'B'), (358, 'B'), (359, 'B'), (360, 'E'), (361, 'J'), (362, 'A'), (363, 'F'), (364, 'E'), (365, 'C'), (366, 'E'), (367, 'B'), (368, 'B'), (369, 'D'), (370, 'J'), (371, 'F'), (372, 'B'), (373, 'F'), (374, 'B'), (375, 'E'), (376, 'B'), (377, 'J'), (378, 'I'), (379, 'I'), (380, 'B'), (381, 'J'), (382, 'B'), (383, 'B'), (384, 'B'), (385, 'J'), (386, 'E'), (387, 'E'), (388, 'J'), (389, 'G'), (390, 'J'), (391, 'J'), (392, 'A'), (393, 'B'), (394, 'F'), (395, 'B'), (396, 'C'), (397, 'I'), (398, 'C'), (399, 'B'), (400, 'B'), (401, 'J'), (402, 'G'), (403, 'J'), (404, 'I'), (405, 'H'), (406, 'I'), (407, 'J'), (408, 'I'), (409, 'E'), (410, 'F'), (411, 'G'), (412, 'B'), (413, 'J'), (414, 'B'), (415, 'B'), (416, 'J'), (417, 'B'), (418, 'E'), (419, 'F'), (420, 'E'), (421, 'J'), (422, 'D'), (423, 'J'), (424, 'E'), (425, 'A'), (426, 'J'), (427, 'F'), (428, 'E'), (429, 'I'), (430, 'J'), (431, 'E'), (432, 'B'), (433, 'J'), (434, 'J'), (435, 'B'), (436, 'B'), (437, 'J'), (438, 'J'), (439, 'F'), (440, 'B'), (441, 'A'), (442, 'A'), (443, 'B'), (444, 'A'), (445, 'J'), (446, 'I'), (447, 'I'), (448, 'A'), (449, 'E'), (450, 'J'), (451, 'J'), (452, 'B'), (453, 'J'), (454, 'I'), (455, 'A'), (456, 'B'), (457, 'A'), (458, 'B'), (459, 'J'), (460, 'B'), (461, 'I'), (462, 'I'), (463, 'J'), (464, 'I'), (465, 'E'), (466, 'B'), (467, 'C'), (468, 'H'), (469, 'I'), (470, 'J'), (471, 'I'), (472, 'C'), (473, 'J'), (474, 'D'), (475, 'J'), (476, 'F'), (477, 'A'), (478, 'G'), (479, 'G'), (480, 'G'), (481, 'A'), (482, 'B'), (483, 'B'), (484, 'J'), (485, 'E'), (486, 'J'), (487, 'I'), (488, 'J'), (489, 'A'), (490, 'B'), (491, 'F'), (492, 'E'), (493, 'B'), (494, 'I'), (495, 'B'), (496, 'D'), (497, 'A'), (498, 'A'), (499, 'B'), (500, 'J'), (501, 'A'), (502, 'J'), (503, 'E'), (504, 'J'), (505, 'A'), (506, 'C'), (507, 'B'), (508, 'F'), (509, 'I'), (510, 'J'), (511, 'B'), (512, 'B'), (513, 'J'), (514, 'E'), (515, 'A'), (516, 'B'), (517, 'J'), (518, 'G'), (519, 'F')]\nMissed: 84 out of 520\n"
     ],
     "output_type": "stream"
    }
   ],
   "source": [
    "#PER-DS2\n",
    "x_train = train_data_2[ :, :-1]\n",
    "y_train = train_data_2[ :, -1]\n",
    "\n",
    "per.fit(x_train, y_train)\n",
    "\n",
    "x_test = labeled_test_data_2[ :, :-1]\n",
    "y_test = labeled_test_data_2[ :, -1]\n",
    "\n",
    "prediction = per.predict(x_test)\n",
    "print([(entry, data_1[prediction[entry]]) for entry in range(prediction.size)])\n",
    "print([(entry, data_1[y_test[entry]]) for entry in range(y_test.size)])\n",
    "print(f'Missed: {(y_test != prediction).sum()} out of {len(y_test)}')\n",
    "\n",
    "with open('PER-DS2.csv', 'w', newline='') as csvfile:\n",
    "    writer = csv.writer(csvfile)\n",
    "    for entry in range(prediction.size):\n",
    "        writer.writerow([entry, int(prediction[entry])])"
   ],
   "metadata": {
    "collapsed": false,
    "pycharm": {
     "name": "#%%\n",
     "is_executing": false
    }
   }
  },
  {
   "cell_type": "markdown",
   "source": [
    "# Baseline Multilayer Perceptrons\n",
    "### Parameters\n",
    "- 1 hidden layer of 100 neurons\n",
    "- logistic as activation function\n",
    "- stochastic gradient descent\n",
    "- default values for the rest of the parameters"
   ],
   "metadata": {
    "collapsed": false,
    "pycharm": {
     "name": "#%% md\n"
    }
   }
  },
  {
   "cell_type": "code",
   "execution_count": 16,
   "outputs": [
    {
     "name": "stdout",
     "text": [
      "[(0, 'L'), (1, 'N'), (2, 'R'), (3, 'C'), (4, 'G'), (5, 'R'), (6, 'L'), (7, 'R'), (8, 'W'), (9, 'L'), (10, 'O'), (11, 'J'), (12, 'L'), (13, 'I'), (14, 'L'), (15, 'K'), (16, 'K'), (17, 'I'), (18, 'C'), (19, 'A'), (20, 'O'), (21, 'A'), (22, 'J'), (23, 'R'), (24, 'I'), (25, 'R'), (26, 'W'), (27, 'I'), (28, 'R'), (29, 'G'), (30, 'O'), (31, 'K'), (32, 'K'), (33, 'O'), (34, 'K'), (35, 'K'), (36, 'C'), (37, 'I'), (38, 'I'), (39, 'O'), (40, 'O'), (41, 'K'), (42, 'K'), (43, 'R'), (44, 'K'), (45, 'K'), (46, 'K'), (47, 'O'), (48, 'I'), (49, 'A'), (50, 'H'), (51, 'I'), (52, 'W'), (53, 'L'), (54, 'O'), (55, 'O'), (56, 'A'), (57, 'J'), (58, 'R'), (59, 'O'), (60, 'M'), (61, 'L'), (62, 'L'), (63, 'K'), (64, 'R'), (65, 'G'), (66, 'G'), (67, 'O'), (68, 'M'), (69, 'N'), (70, 'N'), (71, 'W'), (72, 'M'), (73, 'I'), (74, 'W'), (75, 'G'), (76, 'K'), (77, 'R'), (78, 'G'), (79, 'I')]\n[(0, 'E'), (1, 'N'), (2, 'H'), (3, 'C'), (4, 'S'), (5, 'R'), (6, 'L'), (7, 'X'), (8, 'W'), (9, 'U'), (10, 'C'), (11, 'J'), (12, 'L'), (13, 'T'), (14, 'E'), (15, 'F'), (16, 'G'), (17, 'I'), (18, 'C'), (19, 'A'), (20, 'Q'), (21, 'A'), (22, 'Z'), (23, 'R'), (24, 'J'), (25, 'B'), (26, 'V'), (27, 'I'), (28, 'Y'), (29, 'M'), (30, 'D'), (31, 'X'), (32, 'R'), (33, 'Q'), (34, 'K'), (35, 'K'), (36, 'S'), (37, 'J'), (38, 'P'), (39, 'F'), (40, 'Q'), (41, 'L'), (42, 'N'), (43, 'B'), (44, 'N'), (45, 'K'), (46, 'Z'), (47, 'O'), (48, 'Y'), (49, 'A'), (50, 'H'), (51, 'D'), (52, 'W'), (53, 'U'), (54, 'D'), (55, 'O'), (56, 'Z'), (57, 'J'), (58, 'P'), (59, 'O'), (60, 'H'), (61, 'C'), (62, 'L'), (63, 'M'), (64, 'A'), (65, 'G'), (66, 'G'), (67, 'U'), (68, 'M'), (69, 'N'), (70, 'Y'), (71, 'W'), (72, 'V'), (73, 'I'), (74, 'V'), (75, 'S'), (76, 'P'), (77, 'R'), (78, 'G'), (79, 'T')]\nMissed: 48 out of 80\n"
     ],
     "output_type": "stream"
    },
    {
     "name": "stderr",
     "text": [
      "c:\\programdata\\anaconda3\\envs\\comp-472\\lib\\site-packages\\sklearn\\neural_network\\_multilayer_perceptron.py:585: ConvergenceWarning: Stochastic Optimizer: Maximum iterations (200) reached and the optimization hasn't converged yet.\n  % self.max_iter, ConvergenceWarning)\n"
     ],
     "output_type": "stream"
    }
   ],
   "source": [
    "#Base-MLP-DS1\n",
    "x_train = train_data_1[ :, :-1]\n",
    "y_train = train_data_1[ :, -1]\n",
    "\n",
    "base_mlp.fit(x_train, y_train)\n",
    "\n",
    "x_test = labeled_test_data_1[ :, :-1]\n",
    "y_test = labeled_test_data_1[ :, -1]\n",
    "\n",
    "prediction = base_mlp.predict(x_test)\n",
    "print([(entry, data_1[prediction[entry]]) for entry in range(prediction.size)])\n",
    "print([(entry, data_1[y_test[entry]]) for entry in range(y_test.size)])\n",
    "print(f'Missed: {(y_test != prediction).sum()} out of {len(y_test)}')\n",
    "\n",
    "with open('Base-MLP-DS1.csv', 'w', newline='') as csvfile:\n",
    "    writer = csv.writer(csvfile)\n",
    "    for entry in range(prediction.size):\n",
    "        writer.writerow([entry, int(prediction[entry])])"
   ],
   "metadata": {
    "collapsed": false,
    "pycharm": {
     "name": "#%%\n",
     "is_executing": false
    }
   }
  },
  {
   "cell_type": "code",
   "execution_count": 17,
   "outputs": [
    {
     "name": "stdout",
     "text": [
      "[(0, 'J'), (1, 'A'), (2, 'E'), (3, 'F'), (4, 'J'), (5, 'B'), (6, 'B'), (7, 'D'), (8, 'I'), (9, 'J'), (10, 'F'), (11, 'B'), (12, 'D'), (13, 'J'), (14, 'J'), (15, 'D'), (16, 'J'), (17, 'J'), (18, 'H'), (19, 'B'), (20, 'G'), (21, 'B'), (22, 'J'), (23, 'H'), (24, 'J'), (25, 'I'), (26, 'B'), (27, 'B'), (28, 'I'), (29, 'I'), (30, 'J'), (31, 'I'), (32, 'I'), (33, 'J'), (34, 'I'), (35, 'B'), (36, 'J'), (37, 'J'), (38, 'B'), (39, 'B'), (40, 'B'), (41, 'H'), (42, 'J'), (43, 'F'), (44, 'J'), (45, 'J'), (46, 'B'), (47, 'B'), (48, 'F'), (49, 'B'), (50, 'J'), (51, 'J'), (52, 'F'), (53, 'J'), (54, 'A'), (55, 'A'), (56, 'I'), (57, 'F'), (58, 'J'), (59, 'B'), (60, 'B'), (61, 'J'), (62, 'A'), (63, 'A'), (64, 'J'), (65, 'A'), (66, 'B'), (67, 'E'), (68, 'A'), (69, 'A'), (70, 'D'), (71, 'A'), (72, 'B'), (73, 'J'), (74, 'F'), (75, 'I'), (76, 'J'), (77, 'B'), (78, 'A'), (79, 'J'), (80, 'H'), (81, 'B'), (82, 'A'), (83, 'F'), (84, 'A'), (85, 'J'), (86, 'J'), (87, 'J'), (88, 'H'), (89, 'B'), (90, 'I'), (91, 'E'), (92, 'B'), (93, 'B'), (94, 'F'), (95, 'B'), (96, 'J'), (97, 'J'), (98, 'A'), (99, 'A'), (100, 'E'), (101, 'I'), (102, 'I'), (103, 'C'), (104, 'E'), (105, 'F'), (106, 'I'), (107, 'F'), (108, 'F'), (109, 'E'), (110, 'B'), (111, 'J'), (112, 'F'), (113, 'F'), (114, 'I'), (115, 'J'), (116, 'I'), (117, 'A'), (118, 'I'), (119, 'J'), (120, 'B'), (121, 'F'), (122, 'F'), (123, 'J'), (124, 'B'), (125, 'B'), (126, 'C'), (127, 'E'), (128, 'E'), (129, 'J'), (130, 'B'), (131, 'B'), (132, 'I'), (133, 'B'), (134, 'J'), (135, 'B'), (136, 'E'), (137, 'J'), (138, 'A'), (139, 'I'), (140, 'F'), (141, 'A'), (142, 'B'), (143, 'E'), (144, 'E'), (145, 'E'), (146, 'J'), (147, 'J'), (148, 'F'), (149, 'B'), (150, 'B'), (151, 'F'), (152, 'J'), (153, 'B'), (154, 'F'), (155, 'A'), (156, 'B'), (157, 'F'), (158, 'F'), (159, 'D'), (160, 'A'), (161, 'I'), (162, 'A'), (163, 'B'), (164, 'B'), (165, 'B'), (166, 'B'), (167, 'B'), (168, 'J'), (169, 'A'), (170, 'F'), (171, 'J'), (172, 'F'), (173, 'A'), (174, 'E'), (175, 'B'), (176, 'B'), (177, 'A'), (178, 'A'), (179, 'F'), (180, 'E'), (181, 'B'), (182, 'J'), (183, 'J'), (184, 'E'), (185, 'B'), (186, 'J'), (187, 'J'), (188, 'A'), (189, 'D'), (190, 'B'), (191, 'J'), (192, 'B'), (193, 'J'), (194, 'F'), (195, 'H'), (196, 'J'), (197, 'H'), (198, 'J'), (199, 'J'), (200, 'F'), (201, 'A'), (202, 'J'), (203, 'A'), (204, 'F'), (205, 'F'), (206, 'I'), (207, 'B'), (208, 'F'), (209, 'B'), (210, 'E'), (211, 'F'), (212, 'I'), (213, 'A'), (214, 'J'), (215, 'A'), (216, 'I'), (217, 'B'), (218, 'B'), (219, 'J'), (220, 'I'), (221, 'B'), (222, 'J'), (223, 'E'), (224, 'J'), (225, 'D'), (226, 'J'), (227, 'F'), (228, 'I'), (229, 'B'), (230, 'J'), (231, 'B'), (232, 'E'), (233, 'J'), (234, 'B'), (235, 'G'), (236, 'F'), (237, 'J'), (238, 'I'), (239, 'B'), (240, 'C'), (241, 'A'), (242, 'J'), (243, 'J'), (244, 'B'), (245, 'B'), (246, 'F'), (247, 'A'), (248, 'J'), (249, 'H'), (250, 'J'), (251, 'B'), (252, 'B'), (253, 'B'), (254, 'J'), (255, 'A'), (256, 'J'), (257, 'E'), (258, 'B'), (259, 'B'), (260, 'J'), (261, 'B'), (262, 'B'), (263, 'B'), (264, 'F'), (265, 'F'), (266, 'J'), (267, 'C'), (268, 'H'), (269, 'I'), (270, 'F'), (271, 'A'), (272, 'J'), (273, 'B'), (274, 'H'), (275, 'I'), (276, 'F'), (277, 'I'), (278, 'J'), (279, 'F'), (280, 'A'), (281, 'E'), (282, 'E'), (283, 'G'), (284, 'A'), (285, 'J'), (286, 'A'), (287, 'B'), (288, 'J'), (289, 'B'), (290, 'D'), (291, 'J'), (292, 'I'), (293, 'I'), (294, 'B'), (295, 'J'), (296, 'B'), (297, 'A'), (298, 'I'), (299, 'F'), (300, 'B'), (301, 'F'), (302, 'J'), (303, 'F'), (304, 'B'), (305, 'B'), (306, 'B'), (307, 'H'), (308, 'B'), (309, 'D'), (310, 'J'), (311, 'J'), (312, 'B'), (313, 'J'), (314, 'B'), (315, 'I'), (316, 'F'), (317, 'J'), (318, 'J'), (319, 'H'), (320, 'J'), (321, 'B'), (322, 'J'), (323, 'J'), (324, 'C'), (325, 'F'), (326, 'J'), (327, 'A'), (328, 'B'), (329, 'J'), (330, 'F'), (331, 'B'), (332, 'J'), (333, 'E'), (334, 'B'), (335, 'A'), (336, 'H'), (337, 'B'), (338, 'J'), (339, 'E'), (340, 'I'), (341, 'J'), (342, 'F'), (343, 'I'), (344, 'A'), (345, 'F'), (346, 'F'), (347, 'E'), (348, 'J'), (349, 'J'), (350, 'F'), (351, 'D'), (352, 'I'), (353, 'I'), (354, 'B'), (355, 'J'), (356, 'E'), (357, 'B'), (358, 'B'), (359, 'B'), (360, 'A'), (361, 'J'), (362, 'A'), (363, 'J'), (364, 'J'), (365, 'C'), (366, 'I'), (367, 'B'), (368, 'B'), (369, 'B'), (370, 'J'), (371, 'F'), (372, 'B'), (373, 'F'), (374, 'B'), (375, 'E'), (376, 'B'), (377, 'J'), (378, 'I'), (379, 'I'), (380, 'B'), (381, 'J'), (382, 'B'), (383, 'B'), (384, 'B'), (385, 'J'), (386, 'E'), (387, 'E'), (388, 'J'), (389, 'I'), (390, 'J'), (391, 'J'), (392, 'A'), (393, 'B'), (394, 'F'), (395, 'B'), (396, 'C'), (397, 'I'), (398, 'C'), (399, 'B'), (400, 'B'), (401, 'J'), (402, 'A'), (403, 'J'), (404, 'I'), (405, 'H'), (406, 'I'), (407, 'J'), (408, 'I'), (409, 'A'), (410, 'F'), (411, 'G'), (412, 'B'), (413, 'J'), (414, 'B'), (415, 'B'), (416, 'J'), (417, 'B'), (418, 'E'), (419, 'F'), (420, 'J'), (421, 'J'), (422, 'A'), (423, 'J'), (424, 'I'), (425, 'A'), (426, 'J'), (427, 'F'), (428, 'E'), (429, 'I'), (430, 'J'), (431, 'A'), (432, 'B'), (433, 'J'), (434, 'J'), (435, 'B'), (436, 'B'), (437, 'J'), (438, 'J'), (439, 'F'), (440, 'B'), (441, 'A'), (442, 'A'), (443, 'B'), (444, 'A'), (445, 'J'), (446, 'I'), (447, 'I'), (448, 'A'), (449, 'J'), (450, 'J'), (451, 'E'), (452, 'B'), (453, 'J'), (454, 'I'), (455, 'A'), (456, 'B'), (457, 'A'), (458, 'B'), (459, 'J'), (460, 'B'), (461, 'I'), (462, 'I'), (463, 'J'), (464, 'J'), (465, 'E'), (466, 'B'), (467, 'I'), (468, 'H'), (469, 'I'), (470, 'J'), (471, 'I'), (472, 'C'), (473, 'J'), (474, 'F'), (475, 'J'), (476, 'F'), (477, 'A'), (478, 'I'), (479, 'E'), (480, 'B'), (481, 'B'), (482, 'B'), (483, 'A'), (484, 'J'), (485, 'E'), (486, 'J'), (487, 'I'), (488, 'J'), (489, 'A'), (490, 'B'), (491, 'F'), (492, 'E'), (493, 'B'), (494, 'I'), (495, 'B'), (496, 'D'), (497, 'A'), (498, 'A'), (499, 'B'), (500, 'J'), (501, 'A'), (502, 'F'), (503, 'E'), (504, 'J'), (505, 'A'), (506, 'I'), (507, 'B'), (508, 'F'), (509, 'I'), (510, 'J'), (511, 'B'), (512, 'B'), (513, 'J'), (514, 'E'), (515, 'A'), (516, 'B'), (517, 'J'), (518, 'G'), (519, 'F')]\n[(0, 'J'), (1, 'A'), (2, 'E'), (3, 'F'), (4, 'J'), (5, 'B'), (6, 'B'), (7, 'D'), (8, 'I'), (9, 'J'), (10, 'A'), (11, 'B'), (12, 'D'), (13, 'J'), (14, 'A'), (15, 'D'), (16, 'J'), (17, 'J'), (18, 'H'), (19, 'B'), (20, 'G'), (21, 'B'), (22, 'C'), (23, 'H'), (24, 'J'), (25, 'I'), (26, 'B'), (27, 'B'), (28, 'I'), (29, 'C'), (30, 'J'), (31, 'I'), (32, 'I'), (33, 'J'), (34, 'I'), (35, 'B'), (36, 'J'), (37, 'J'), (38, 'B'), (39, 'B'), (40, 'B'), (41, 'H'), (42, 'A'), (43, 'F'), (44, 'J'), (45, 'F'), (46, 'B'), (47, 'B'), (48, 'F'), (49, 'B'), (50, 'I'), (51, 'J'), (52, 'F'), (53, 'J'), (54, 'A'), (55, 'B'), (56, 'I'), (57, 'F'), (58, 'E'), (59, 'B'), (60, 'B'), (61, 'J'), (62, 'A'), (63, 'A'), (64, 'J'), (65, 'A'), (66, 'B'), (67, 'E'), (68, 'A'), (69, 'J'), (70, 'D'), (71, 'B'), (72, 'B'), (73, 'J'), (74, 'J'), (75, 'I'), (76, 'E'), (77, 'B'), (78, 'E'), (79, 'J'), (80, 'H'), (81, 'B'), (82, 'A'), (83, 'F'), (84, 'A'), (85, 'G'), (86, 'J'), (87, 'J'), (88, 'H'), (89, 'G'), (90, 'I'), (91, 'F'), (92, 'B'), (93, 'B'), (94, 'F'), (95, 'B'), (96, 'J'), (97, 'J'), (98, 'A'), (99, 'A'), (100, 'J'), (101, 'I'), (102, 'I'), (103, 'C'), (104, 'E'), (105, 'F'), (106, 'I'), (107, 'F'), (108, 'F'), (109, 'E'), (110, 'B'), (111, 'J'), (112, 'C'), (113, 'F'), (114, 'I'), (115, 'J'), (116, 'I'), (117, 'E'), (118, 'I'), (119, 'J'), (120, 'B'), (121, 'F'), (122, 'F'), (123, 'J'), (124, 'B'), (125, 'B'), (126, 'G'), (127, 'J'), (128, 'E'), (129, 'J'), (130, 'B'), (131, 'B'), (132, 'I'), (133, 'B'), (134, 'J'), (135, 'B'), (136, 'E'), (137, 'J'), (138, 'A'), (139, 'C'), (140, 'F'), (141, 'A'), (142, 'B'), (143, 'J'), (144, 'E'), (145, 'E'), (146, 'J'), (147, 'J'), (148, 'J'), (149, 'B'), (150, 'B'), (151, 'F'), (152, 'J'), (153, 'B'), (154, 'F'), (155, 'A'), (156, 'B'), (157, 'F'), (158, 'F'), (159, 'D'), (160, 'A'), (161, 'I'), (162, 'A'), (163, 'B'), (164, 'B'), (165, 'B'), (166, 'B'), (167, 'B'), (168, 'J'), (169, 'A'), (170, 'F'), (171, 'J'), (172, 'F'), (173, 'A'), (174, 'E'), (175, 'B'), (176, 'B'), (177, 'A'), (178, 'I'), (179, 'F'), (180, 'J'), (181, 'B'), (182, 'E'), (183, 'J'), (184, 'E'), (185, 'B'), (186, 'J'), (187, 'E'), (188, 'J'), (189, 'D'), (190, 'B'), (191, 'J'), (192, 'B'), (193, 'J'), (194, 'F'), (195, 'H'), (196, 'J'), (197, 'H'), (198, 'J'), (199, 'J'), (200, 'J'), (201, 'A'), (202, 'J'), (203, 'A'), (204, 'A'), (205, 'B'), (206, 'I'), (207, 'B'), (208, 'F'), (209, 'E'), (210, 'E'), (211, 'F'), (212, 'A'), (213, 'A'), (214, 'J'), (215, 'A'), (216, 'I'), (217, 'B'), (218, 'B'), (219, 'J'), (220, 'I'), (221, 'B'), (222, 'J'), (223, 'E'), (224, 'E'), (225, 'D'), (226, 'I'), (227, 'F'), (228, 'E'), (229, 'B'), (230, 'J'), (231, 'B'), (232, 'J'), (233, 'J'), (234, 'B'), (235, 'G'), (236, 'F'), (237, 'J'), (238, 'C'), (239, 'B'), (240, 'C'), (241, 'A'), (242, 'J'), (243, 'J'), (244, 'B'), (245, 'B'), (246, 'F'), (247, 'A'), (248, 'J'), (249, 'H'), (250, 'J'), (251, 'B'), (252, 'B'), (253, 'B'), (254, 'J'), (255, 'A'), (256, 'J'), (257, 'D'), (258, 'B'), (259, 'B'), (260, 'E'), (261, 'B'), (262, 'B'), (263, 'B'), (264, 'E'), (265, 'F'), (266, 'J'), (267, 'C'), (268, 'H'), (269, 'J'), (270, 'F'), (271, 'E'), (272, 'J'), (273, 'B'), (274, 'H'), (275, 'A'), (276, 'F'), (277, 'I'), (278, 'J'), (279, 'F'), (280, 'A'), (281, 'E'), (282, 'E'), (283, 'G'), (284, 'D'), (285, 'J'), (286, 'A'), (287, 'B'), (288, 'F'), (289, 'B'), (290, 'D'), (291, 'J'), (292, 'C'), (293, 'I'), (294, 'B'), (295, 'J'), (296, 'B'), (297, 'A'), (298, 'I'), (299, 'J'), (300, 'A'), (301, 'F'), (302, 'J'), (303, 'F'), (304, 'B'), (305, 'B'), (306, 'B'), (307, 'H'), (308, 'G'), (309, 'B'), (310, 'J'), (311, 'J'), (312, 'B'), (313, 'E'), (314, 'B'), (315, 'I'), (316, 'F'), (317, 'J'), (318, 'J'), (319, 'H'), (320, 'J'), (321, 'I'), (322, 'J'), (323, 'J'), (324, 'A'), (325, 'F'), (326, 'J'), (327, 'A'), (328, 'B'), (329, 'F'), (330, 'F'), (331, 'B'), (332, 'J'), (333, 'E'), (334, 'B'), (335, 'G'), (336, 'H'), (337, 'B'), (338, 'J'), (339, 'E'), (340, 'I'), (341, 'I'), (342, 'F'), (343, 'I'), (344, 'A'), (345, 'E'), (346, 'F'), (347, 'E'), (348, 'J'), (349, 'J'), (350, 'F'), (351, 'D'), (352, 'B'), (353, 'I'), (354, 'B'), (355, 'E'), (356, 'J'), (357, 'B'), (358, 'B'), (359, 'B'), (360, 'E'), (361, 'J'), (362, 'A'), (363, 'F'), (364, 'E'), (365, 'C'), (366, 'E'), (367, 'B'), (368, 'B'), (369, 'D'), (370, 'J'), (371, 'F'), (372, 'B'), (373, 'F'), (374, 'B'), (375, 'E'), (376, 'B'), (377, 'J'), (378, 'I'), (379, 'I'), (380, 'B'), (381, 'J'), (382, 'B'), (383, 'B'), (384, 'B'), (385, 'J'), (386, 'E'), (387, 'E'), (388, 'J'), (389, 'G'), (390, 'J'), (391, 'J'), (392, 'A'), (393, 'B'), (394, 'F'), (395, 'B'), (396, 'C'), (397, 'I'), (398, 'C'), (399, 'B'), (400, 'B'), (401, 'J'), (402, 'G'), (403, 'J'), (404, 'I'), (405, 'H'), (406, 'I'), (407, 'J'), (408, 'I'), (409, 'E'), (410, 'F'), (411, 'G'), (412, 'B'), (413, 'J'), (414, 'B'), (415, 'B'), (416, 'J'), (417, 'B'), (418, 'E'), (419, 'F'), (420, 'E'), (421, 'J'), (422, 'D'), (423, 'J'), (424, 'E'), (425, 'A'), (426, 'J'), (427, 'F'), (428, 'E'), (429, 'I'), (430, 'J'), (431, 'E'), (432, 'B'), (433, 'J'), (434, 'J'), (435, 'B'), (436, 'B'), (437, 'J'), (438, 'J'), (439, 'F'), (440, 'B'), (441, 'A'), (442, 'A'), (443, 'B'), (444, 'A'), (445, 'J'), (446, 'I'), (447, 'I'), (448, 'A'), (449, 'E'), (450, 'J'), (451, 'J'), (452, 'B'), (453, 'J'), (454, 'I'), (455, 'A'), (456, 'B'), (457, 'A'), (458, 'B'), (459, 'J'), (460, 'B'), (461, 'I'), (462, 'I'), (463, 'J'), (464, 'I'), (465, 'E'), (466, 'B'), (467, 'C'), (468, 'H'), (469, 'I'), (470, 'J'), (471, 'I'), (472, 'C'), (473, 'J'), (474, 'D'), (475, 'J'), (476, 'F'), (477, 'A'), (478, 'G'), (479, 'G'), (480, 'G'), (481, 'A'), (482, 'B'), (483, 'B'), (484, 'J'), (485, 'E'), (486, 'J'), (487, 'I'), (488, 'J'), (489, 'A'), (490, 'B'), (491, 'F'), (492, 'E'), (493, 'B'), (494, 'I'), (495, 'B'), (496, 'D'), (497, 'A'), (498, 'A'), (499, 'B'), (500, 'J'), (501, 'A'), (502, 'J'), (503, 'E'), (504, 'J'), (505, 'A'), (506, 'C'), (507, 'B'), (508, 'F'), (509, 'I'), (510, 'J'), (511, 'B'), (512, 'B'), (513, 'J'), (514, 'E'), (515, 'A'), (516, 'B'), (517, 'J'), (518, 'G'), (519, 'F')]\nMissed: 87 out of 520\n"
     ],
     "output_type": "stream"
    },
    {
     "name": "stderr",
     "text": [
      "c:\\programdata\\anaconda3\\envs\\comp-472\\lib\\site-packages\\sklearn\\neural_network\\_multilayer_perceptron.py:585: ConvergenceWarning: Stochastic Optimizer: Maximum iterations (200) reached and the optimization hasn't converged yet.\n  % self.max_iter, ConvergenceWarning)\n"
     ],
     "output_type": "stream"
    }
   ],
   "source": [
    "#Base-MLP-DS2\n",
    "x_train = train_data_2[ :, :-1]\n",
    "y_train = train_data_2[ :, -1]\n",
    "\n",
    "base_mlp.fit(x_train, y_train)\n",
    "\n",
    "x_test = labeled_test_data_2[ :, :-1]\n",
    "y_test = labeled_test_data_2[ :, -1]\n",
    "\n",
    "prediction = base_mlp.predict(x_test)\n",
    "print([(entry, data_1[prediction[entry]]) for entry in range(prediction.size)])\n",
    "print([(entry, data_1[y_test[entry]]) for entry in range(y_test.size)])\n",
    "print(f'Missed: {(y_test != prediction).sum()} out of {len(y_test)}')\n",
    "\n",
    "with open('Base-MLP-DS2.csv', 'w', newline='') as csvfile:\n",
    "    writer = csv.writer(csvfile)\n",
    "    for entry in range(prediction.size):\n",
    "        writer.writerow([entry, int(prediction[entry])])"
   ],
   "metadata": {
    "collapsed": false,
    "pycharm": {
     "name": "#%%\n",
     "is_executing": false
    }
   }
  },
  {
   "cell_type": "markdown",
   "source": [
    "# Optimized Multilayer Perceptrons\n",
    "### Paramters\n",
    "- 2 hidden layers with 30+50 nodes / 3 hidden layers with 10+10 nodes\n",
    "- logistic/tanh/relu/identity as activation function\n",
    "- stochastic gradient descent / Adam\n",
    "- default values for the rest of the parameters\n",
    "### Brute Force Optimization Process\n",
    "- Trains new MLP with different h-parameter to determine best performance\n",
    "    - Loops through a variety of parameters, tracking the best case of predictions misses (best)"
   ],
   "metadata": {
    "collapsed": false,
    "pycharm": {
     "name": "#%% md\n"
    }
   }
  },
  {
   "cell_type": "code",
   "execution_count": 23,
   "outputs": [
    {
     "name": "stdout",
     "text": [
      "Layers: (30, 50)\nActivation Function: logistic\nSolver: sgd\n231\n",
      "Layers: (30, 50)\nActivation Function: logistic\nSolver: adam\n47\n",
      "Layers: (30, 50)\nActivation Function: identity\nSolver: adam\n44\n",
      "Missed: 11 out of 80\n"
     ],
     "output_type": "stream"
    },
    {
     "name": "stderr",
     "text": [
      "c:\\programdata\\anaconda3\\envs\\comp-472\\lib\\site-packages\\sklearn\\neural_network\\_multilayer_perceptron.py:585: ConvergenceWarning: Stochastic Optimizer: Maximum iterations (200) reached and the optimization hasn't converged yet.\n  % self.max_iter, ConvergenceWarning)\n",
      "c:\\programdata\\anaconda3\\envs\\comp-472\\lib\\site-packages\\sklearn\\neural_network\\_multilayer_perceptron.py:585: ConvergenceWarning: Stochastic Optimizer: Maximum iterations (200) reached and the optimization hasn't converged yet.\n  % self.max_iter, ConvergenceWarning)\n",
      "c:\\programdata\\anaconda3\\envs\\comp-472\\lib\\site-packages\\sklearn\\neural_network\\_multilayer_perceptron.py:585: ConvergenceWarning: Stochastic Optimizer: Maximum iterations (200) reached and the optimization hasn't converged yet.\n  % self.max_iter, ConvergenceWarning)\n",
      "c:\\programdata\\anaconda3\\envs\\comp-472\\lib\\site-packages\\sklearn\\neural_network\\_multilayer_perceptron.py:585: ConvergenceWarning: Stochastic Optimizer: Maximum iterations (200) reached and the optimization hasn't converged yet.\n  % self.max_iter, ConvergenceWarning)\n",
      "c:\\programdata\\anaconda3\\envs\\comp-472\\lib\\site-packages\\sklearn\\neural_network\\_multilayer_perceptron.py:585: ConvergenceWarning: Stochastic Optimizer: Maximum iterations (200) reached and the optimization hasn't converged yet.\n  % self.max_iter, ConvergenceWarning)\n",
      "c:\\programdata\\anaconda3\\envs\\comp-472\\lib\\site-packages\\sklearn\\neural_network\\_multilayer_perceptron.py:585: ConvergenceWarning: Stochastic Optimizer: Maximum iterations (200) reached and the optimization hasn't converged yet.\n  % self.max_iter, ConvergenceWarning)\n",
      "c:\\programdata\\anaconda3\\envs\\comp-472\\lib\\site-packages\\sklearn\\neural_network\\_multilayer_perceptron.py:585: ConvergenceWarning: Stochastic Optimizer: Maximum iterations (200) reached and the optimization hasn't converged yet.\n  % self.max_iter, ConvergenceWarning)\n",
      "c:\\programdata\\anaconda3\\envs\\comp-472\\lib\\site-packages\\sklearn\\neural_network\\_multilayer_perceptron.py:585: ConvergenceWarning: Stochastic Optimizer: Maximum iterations (200) reached and the optimization hasn't converged yet.\n  % self.max_iter, ConvergenceWarning)\n",
      "c:\\programdata\\anaconda3\\envs\\comp-472\\lib\\site-packages\\sklearn\\neural_network\\_multilayer_perceptron.py:585: ConvergenceWarning: Stochastic Optimizer: Maximum iterations (200) reached and the optimization hasn't converged yet.\n  % self.max_iter, ConvergenceWarning)\n",
      "c:\\programdata\\anaconda3\\envs\\comp-472\\lib\\site-packages\\sklearn\\neural_network\\_multilayer_perceptron.py:585: ConvergenceWarning: Stochastic Optimizer: Maximum iterations (200) reached and the optimization hasn't converged yet.\n  % self.max_iter, ConvergenceWarning)\n",
      "c:\\programdata\\anaconda3\\envs\\comp-472\\lib\\site-packages\\sklearn\\neural_network\\_multilayer_perceptron.py:585: ConvergenceWarning: Stochastic Optimizer: Maximum iterations (200) reached and the optimization hasn't converged yet.\n  % self.max_iter, ConvergenceWarning)\n",
      "c:\\programdata\\anaconda3\\envs\\comp-472\\lib\\site-packages\\sklearn\\neural_network\\_multilayer_perceptron.py:585: ConvergenceWarning: Stochastic Optimizer: Maximum iterations (200) reached and the optimization hasn't converged yet.\n  % self.max_iter, ConvergenceWarning)\n",
      "c:\\programdata\\anaconda3\\envs\\comp-472\\lib\\site-packages\\sklearn\\neural_network\\_multilayer_perceptron.py:585: ConvergenceWarning: Stochastic Optimizer: Maximum iterations (200) reached and the optimization hasn't converged yet.\n  % self.max_iter, ConvergenceWarning)\n"
     ],
     "output_type": "stream"
    }
   ],
   "source": [
    "# MLP Optimization DS1\n",
    "x_train = train_data_1[ :, :-1]\n",
    "y_train = train_data_1[ :, -1]\n",
    "\n",
    "x_val = val_data_1[ :, :-1]\n",
    "y_val = val_data_1[ :, -1]\n",
    "\n",
    "x_test = labeled_test_data_1[ :, :-1]\n",
    "y_test = labeled_test_data_1[ :, -1]\n",
    "\n",
    "best = 239\n",
    "\n",
    "def mlp_score(layer, funct, solver):\n",
    "    best_mlp = MLPClassifier(hidden_layer_sizes=layer, activation=funct, solver=solver)\n",
    "    best_mlp.fit(x_train, y_train)\n",
    "    pred = best_mlp.predict(x_val)\n",
    "    return (y_val != pred).sum()\n",
    "\n",
    "layers = [(30, 50), (10, 10, 10)]\n",
    "functions = [\"logistic\", \"tanh\", \"relu\", \"identity\"]\n",
    "solvers = [\"sgd\", \"adam\"]\n",
    "\n",
    "tuned_layers = None\n",
    "tuned_function = None\n",
    "tuned_solver = None\n",
    "\n",
    "for layer in layers:\n",
    "    for function in functions:\n",
    "        for solver in solvers:\n",
    "            missed = mlp_score(layer, function, solver)\n",
    "            if missed < best:\n",
    "                print(f'Layers: {layer}\\n'\n",
    "                      f'Activation Function: {function}\\n'\n",
    "                      f'Solver: {solver}')\n",
    "                tuned_layers = layer\n",
    "                tuned_function = function\n",
    "                tuned_solver = solver\n",
    "                best = missed\n",
    "                print(missed)\n",
    "            \n",
    "tuned = MLPClassifier(hidden_layer_sizes=tuned_layers, activation=tuned_function, solver=tuned_solver)\n",
    "\n",
    "prediction = tuned.fit(x_train, y_train).predict(x_test)\n",
    "print(f'Missed: {(y_test != prediction).sum()} out of {len(y_test)}')\n",
    "with open('Best-MLP-DS1.csv', 'w', newline='') as csvfile:\n",
    "    writer = csv.writer(csvfile)\n",
    "    for entry in range(prediction.size):\n",
    "        writer.writerow([entry, int(prediction[entry])])"
   ],
   "metadata": {
    "collapsed": false,
    "pycharm": {
     "name": "#%%\n",
     "is_executing": false
    }
   }
  },
  {
   "cell_type": "code",
   "execution_count": 24,
   "outputs": [
    {
     "name": "stderr",
     "text": [
      "c:\\programdata\\anaconda3\\envs\\comp-472\\lib\\site-packages\\sklearn\\neural_network\\_multilayer_perceptron.py:585: ConvergenceWarning: Stochastic Optimizer: Maximum iterations (200) reached and the optimization hasn't converged yet.\n  % self.max_iter, ConvergenceWarning)\n",
      "c:\\programdata\\anaconda3\\envs\\comp-472\\lib\\site-packages\\sklearn\\neural_network\\_multilayer_perceptron.py:585: ConvergenceWarning: Stochastic Optimizer: Maximum iterations (200) reached and the optimization hasn't converged yet.\n  % self.max_iter, ConvergenceWarning)\n",
      "c:\\programdata\\anaconda3\\envs\\comp-472\\lib\\site-packages\\sklearn\\neural_network\\_multilayer_perceptron.py:585: ConvergenceWarning: Stochastic Optimizer: Maximum iterations (200) reached and the optimization hasn't converged yet.\n  % self.max_iter, ConvergenceWarning)\n",
      "c:\\programdata\\anaconda3\\envs\\comp-472\\lib\\site-packages\\sklearn\\neural_network\\_multilayer_perceptron.py:585: ConvergenceWarning: Stochastic Optimizer: Maximum iterations (200) reached and the optimization hasn't converged yet.\n  % self.max_iter, ConvergenceWarning)\n",
      "c:\\programdata\\anaconda3\\envs\\comp-472\\lib\\site-packages\\sklearn\\neural_network\\_multilayer_perceptron.py:585: ConvergenceWarning: Stochastic Optimizer: Maximum iterations (200) reached and the optimization hasn't converged yet.\n  % self.max_iter, ConvergenceWarning)\n",
      "c:\\programdata\\anaconda3\\envs\\comp-472\\lib\\site-packages\\sklearn\\neural_network\\_multilayer_perceptron.py:585: ConvergenceWarning: Stochastic Optimizer: Maximum iterations (200) reached and the optimization hasn't converged yet.\n  % self.max_iter, ConvergenceWarning)\n",
      "c:\\programdata\\anaconda3\\envs\\comp-472\\lib\\site-packages\\sklearn\\neural_network\\_multilayer_perceptron.py:585: ConvergenceWarning: Stochastic Optimizer: Maximum iterations (200) reached and the optimization hasn't converged yet.\n  % self.max_iter, ConvergenceWarning)\n",
      "c:\\programdata\\anaconda3\\envs\\comp-472\\lib\\site-packages\\sklearn\\neural_network\\_multilayer_perceptron.py:585: ConvergenceWarning: Stochastic Optimizer: Maximum iterations (200) reached and the optimization hasn't converged yet.\n  % self.max_iter, ConvergenceWarning)\n",
      "c:\\programdata\\anaconda3\\envs\\comp-472\\lib\\site-packages\\sklearn\\neural_network\\_multilayer_perceptron.py:585: ConvergenceWarning: Stochastic Optimizer: Maximum iterations (200) reached and the optimization hasn't converged yet.\n  % self.max_iter, ConvergenceWarning)\n",
      "c:\\programdata\\anaconda3\\envs\\comp-472\\lib\\site-packages\\sklearn\\neural_network\\_multilayer_perceptron.py:585: ConvergenceWarning: Stochastic Optimizer: Maximum iterations (200) reached and the optimization hasn't converged yet.\n  % self.max_iter, ConvergenceWarning)\n",
      "c:\\programdata\\anaconda3\\envs\\comp-472\\lib\\site-packages\\sklearn\\neural_network\\_multilayer_perceptron.py:585: ConvergenceWarning: Stochastic Optimizer: Maximum iterations (200) reached and the optimization hasn't converged yet.\n  % self.max_iter, ConvergenceWarning)\n",
      "c:\\programdata\\anaconda3\\envs\\comp-472\\lib\\site-packages\\sklearn\\neural_network\\_multilayer_perceptron.py:585: ConvergenceWarning: Stochastic Optimizer: Maximum iterations (200) reached and the optimization hasn't converged yet.\n  % self.max_iter, ConvergenceWarning)\n",
      "c:\\programdata\\anaconda3\\envs\\comp-472\\lib\\site-packages\\sklearn\\neural_network\\_multilayer_perceptron.py:585: ConvergenceWarning: Stochastic Optimizer: Maximum iterations (200) reached and the optimization hasn't converged yet.\n  % self.max_iter, ConvergenceWarning)\n"
     ],
     "output_type": "stream"
    },
    {
     "name": "stdout",
     "text": [
      "Layers: (30, 50)\nActivation Function: logistic\nSolver: sgd\n604\n",
      "Layers: (30, 50)\nActivation Function: logistic\nSolver: adam\n185\n",
      "Layers: (30, 50)\nActivation Function: tanh\nSolver: sgd\n169\n",
      "Layers: (30, 50)\nActivation Function: tanh\nSolver: adam\n162\n",
      "Missed: 70 out of 520\n"
     ],
     "output_type": "stream"
    }
   ],
   "source": [
    "# MLP Optimization DS2\n",
    "x_train = train_data_2[ :, :-1]\n",
    "y_train = train_data_2[ :, -1]\n",
    "\n",
    "x_val = val_data_2[ :, :-1]\n",
    "y_val = val_data_2[ :, -1]\n",
    "\n",
    "x_test = labeled_test_data_2[ :, :-1]\n",
    "y_test = labeled_test_data_2[ :, -1]\n",
    "\n",
    "best = 1560\n",
    "\n",
    "def mlp_score(layer, funct, solver):\n",
    "    best_mlp = MLPClassifier(hidden_layer_sizes=layer, activation=funct, solver=solver)\n",
    "    best_mlp.fit(x_train, y_train)\n",
    "    pred = best_mlp.predict(x_val)\n",
    "    return (y_val != pred).sum()\n",
    "\n",
    "layers = [(30,50), (10, 10, 10)]\n",
    "functions = [\"logistic\", \"tanh\", \"relu\", \"identity\"]\n",
    "solvers = [\"sgd\", \"adam\"]\n",
    "\n",
    "tuned_layers = None\n",
    "tuned_function = None\n",
    "tuned_solver = None\n",
    "\n",
    "for layer in layers:\n",
    "    for function in functions:\n",
    "        for solver in solvers:\n",
    "            missed = mlp_score(layer, function, solver)\n",
    "            if missed < best:\n",
    "                print(f'Layers: {layer}\\n'\n",
    "                      f'Activation Function: {function}\\n'\n",
    "                      f'Solver: {solver}')\n",
    "                tuned_layers = layer\n",
    "                tuned_function = function\n",
    "                tuned_solver = solver\n",
    "                best = missed\n",
    "                print(missed)\n",
    "            \n",
    "tuned = MLPClassifier(hidden_layer_sizes=tuned_layers, activation=tuned_function, solver=tuned_solver)\n",
    "\n",
    "prediction = tuned.fit(x_train, y_train).predict(x_test)\n",
    "print(f'Missed: {(y_test != prediction).sum()} out of {len(y_test)}')\n",
    "with open('Best-MLP-DS2.csv', 'w', newline='') as csvfile:\n",
    "    writer = csv.writer(csvfile)\n",
    "    for entry in range(prediction.size):\n",
    "        writer.writerow([entry, int(prediction[entry])])"
   ],
   "metadata": {
    "collapsed": false,
    "pycharm": {
     "name": "#%%%\n",
     "is_executing": false
    }
   }
  }
 ],
 "metadata": {
  "kernelspec": {
   "display_name": "Python 3",
   "language": "python",
   "name": "python3"
  },
  "language_info": {
   "codemirror_mode": {
    "name": "ipython",
    "version": 3
   },
   "file_extension": ".py",
   "mimetype": "text/x-python",
   "name": "python",
   "nbconvert_exporter": "python",
   "pygments_lexer": "ipython3",
   "version": "3.7.9"
  },
  "pycharm": {
   "stem_cell": {
    "cell_type": "raw",
    "source": [],
    "metadata": {
     "collapsed": false
    }
   }
  }
 },
 "nbformat": 4,
 "nbformat_minor": 1
}